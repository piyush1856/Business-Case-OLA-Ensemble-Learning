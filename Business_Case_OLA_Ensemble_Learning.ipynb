{
  "nbformat": 4,
  "nbformat_minor": 0,
  "metadata": {
    "colab": {
      "provenance": [],
      "toc_visible": true,
      "gpuType": "T4",
      "authorship_tag": "ABX9TyPHTpMidMbWYfSmW06Vv2Xz",
      "include_colab_link": true
    },
    "kernelspec": {
      "name": "python3",
      "display_name": "Python 3"
    },
    "language_info": {
      "name": "python"
    },
    "accelerator": "GPU"
  },
  "cells": [
    {
      "cell_type": "markdown",
      "metadata": {
        "id": "view-in-github",
        "colab_type": "text"
      },
      "source": [
        "<a href=\"https://colab.research.google.com/github/piyush1856/Business-Case-OLA-Ensemble-Learning/blob/main/Business_Case_OLA_Ensemble_Learning.ipynb\" target=\"_parent\"><img src=\"https://colab.research.google.com/assets/colab-badge.svg\" alt=\"Open In Colab\"/></a>"
      ]
    },
    {
      "cell_type": "markdown",
      "source": [
        "# **Introduction**\n",
        "\n",
        "Driver attrition poses significant challenges to ride-hailing platforms like OLA, impacting operational efficiency and customer satisfaction. Predicting and mitigating driver turnover is crucial for maintaining a stable and efficient workforce. This case study focuses on leveraging ensemble learning techniques to develop a robust predictive model for driver attrition.\n",
        "\n",
        "By employing methods such as bagging and boosting, the objective is to harness the power of advanced machine learning algorithms to achieve higher predictive accuracy. The dataset includes driver demographics, tenure information, and performance metrics, which will be analyzed through exploratory data analysis, preprocessing, and feature engineering.\n",
        "\n",
        "This study aims to deliver actionable insights and a reliable predictive model that can support strategic decision-making for managing driver retention effectively."
      ],
      "metadata": {
        "id": "BboUxEL9VKFZ"
      }
    },
    {
      "cell_type": "markdown",
      "source": [
        "# **Background**\n",
        "\n",
        "The ride-hailing industry has revolutionized transportation, offering convenience and flexibility to millions of customers globally. However, driver attrition remains one of the most critical challenges for companies like OLA. High turnover rates lead to increased recruitment and training costs, reduced service reliability, and a compromised customer experience.\n",
        "\n",
        "Driver attrition is often influenced by a combination of factors, including demographic characteristics, work performance, and job tenure. Understanding these factors and predicting attrition early is vital for implementing proactive strategies to retain drivers and ensure operational stability.\n",
        "\n",
        "Traditional machine learning models often fall short in capturing complex patterns within data. Ensemble learning, which combines multiple models to improve predictive accuracy and robustness, offers a promising solution to this challenge. Techniques like bagging and boosting can enhance model performance by addressing issues such as overfitting, bias, and variance.\n",
        "\n",
        "This case study aims to explore the application of ensemble learning to predict driver attrition accurately, offering insights that can help OLA retain its workforce and maintain a competitive edge in the industry."
      ],
      "metadata": {
        "id": "HMtuDgCaVkdP"
      }
    },
    {
      "cell_type": "markdown",
      "source": [
        "# **Concepts Used**\n",
        "\n",
        "To address the challenge of predicting driver attrition effectively, the following concepts and methodologies are employed in this case study:  \n",
        "\n",
        "1. **Exploratory Data Analysis (EDA):**  \n",
        "   EDA involves examining the dataset to uncover patterns, trends, and relationships among features. It also helps identify missing values, outliers, and potential data quality issues.  \n",
        "\n",
        "2. **Data Preprocessing:**  \n",
        "   - **KNN Imputation:** Used to handle missing values by imputing them based on the nearest neighbors.  \n",
        "   - **Feature Engineering:** Creation of new, meaningful features or transformation of existing ones to improve model performance.  \n",
        "   - **Class Imbalance Treatment:** Techniques like oversampling, undersampling, or Synthetic Minority Oversampling Technique (SMOTE) to balance the dataset.  \n",
        "   - **Standardization:** Scaling features to have zero mean and unit variance to ensure uniformity, especially important for models sensitive to feature magnitudes.  \n",
        "   - **Encoding:** Converting categorical variables into numerical format using techniques like one-hot encoding or label encoding.  \n",
        "\n",
        "3. **Ensemble Learning:**  \n",
        "   Ensemble learning methods are applied to enhance the predictive power of the model:  \n",
        "   - **Bagging:** Techniques such as Random Forest aggregate predictions from multiple decision trees to reduce variance and improve robustness.  \n",
        "   - **Boosting:** Algorithms like Gradient Boosting or AdaBoost iteratively focus on correcting errors made by previous models, reducing bias and improving accuracy.  \n",
        "\n",
        "4. **Model Evaluation:**  \n",
        "   Evaluation metrics such as precision, recall, F1-score, and ROC-AUC are used to assess model performance. Special emphasis is placed on precision and recall to ensure a balanced trade-off between false positives and false negatives.  \n",
        "\n",
        "5. **Insights and Recommendations:**  \n",
        "   Based on the model’s predictions and analysis of important features, actionable recommendations are provided to mitigate driver attrition.  \n"
      ],
      "metadata": {
        "id": "fShEy8bEWOJ2"
      }
    },
    {
      "cell_type": "markdown",
      "source": [
        "# **Dataset Explanation**\n",
        "\n",
        "The `ola_driver.csv` dataset includes features describing driver attributes, performance, and tenure. Below is a detailed explanation of the columns:\n",
        "\n",
        "1. **MMMM-YY:** Reporting month and year.  \n",
        "2. **Driver_ID:** A unique identifier assigned to every driver.  \n",
        "3. **Age:** Age of the driver.  \n",
        "4. **Gender:** Driver's gender (Male: `0`, Female: `1`).  \n",
        "5. **City:** City code representing the city where the driver operates.  \n",
        "6. **Education_Level:** Education level of the driver, categorized as:  \n",
        "   - `0`: 10+  \n",
        "   - `1`: 12+  \n",
        "   - `2`: Graduate  \n",
        "7. **Income:** Average monthly income of the driver.  \n",
        "8. **Date Of Joining:** The date when the driver joined Ola.  \n",
        "9. **LastWorkingDate:** The most recent or final day the driver worked with Ola.  \n",
        "10. **Joining Designation:** The designation of the driver at the time of joining Ola.  \n",
        "11. **Grade:** A grade assigned to the driver at the reporting time, likely representing performance or other metrics.  \n",
        "12. **Total Business Value:** The total monetary value (business) a driver contributes in a month. Negative values might indicate cancellations, refunds, or other financial adjustments.  \n",
        "13. **Quarterly Rating:** The driver's rating on a quarterly basis, ranging from `1` to `5` (with `5` being the best).  \n",
        "\n",
        "This dataset provides essential details to analyze and predict driver attrition using ensemble learning techniques.\n"
      ],
      "metadata": {
        "id": "YK9XifTOWfYk"
      }
    },
    {
      "cell_type": "markdown",
      "source": [
        "# **Import Libraries**"
      ],
      "metadata": {
        "id": "lDmti8u2ZUB5"
      }
    },
    {
      "cell_type": "code",
      "execution_count": 7,
      "metadata": {
        "id": "x6sbAlTAeTnu",
        "colab": {
          "base_uri": "https://localhost:8080/",
          "height": 551
        },
        "outputId": "39b708d3-8048-4150-884e-82c0e62171cd"
      },
      "outputs": [
        {
          "output_type": "error",
          "ename": "ImportError",
          "evalue": "cannot import name 'UnsetMetadataPassedError' from 'sklearn.exceptions' (/usr/local/lib/python3.11/dist-packages/sklearn/exceptions.py)",
          "traceback": [
            "\u001b[0;31m---------------------------------------------------------------------------\u001b[0m",
            "\u001b[0;31mImportError\u001b[0m                               Traceback (most recent call last)",
            "\u001b[0;32m<ipython-input-7-ecba65e4c2a4>\u001b[0m in \u001b[0;36m<cell line: 0>\u001b[0;34m()\u001b[0m\n\u001b[1;32m     19\u001b[0m \u001b[0;32mfrom\u001b[0m \u001b[0msklearn\u001b[0m\u001b[0;34m.\u001b[0m\u001b[0mimpute\u001b[0m \u001b[0;32mimport\u001b[0m \u001b[0mKNNImputer\u001b[0m\u001b[0;34m\u001b[0m\u001b[0;34m\u001b[0m\u001b[0m\n\u001b[1;32m     20\u001b[0m \u001b[0;32mfrom\u001b[0m \u001b[0msklearn\u001b[0m\u001b[0;34m.\u001b[0m\u001b[0mlinear_model\u001b[0m \u001b[0;32mimport\u001b[0m \u001b[0mLinearRegression\u001b[0m\u001b[0;34m\u001b[0m\u001b[0;34m\u001b[0m\u001b[0m\n\u001b[0;32m---> 21\u001b[0;31m \u001b[0;32mfrom\u001b[0m \u001b[0mimblearn\u001b[0m\u001b[0;34m.\u001b[0m\u001b[0mover_sampling\u001b[0m \u001b[0;32mimport\u001b[0m \u001b[0mSMOTE\u001b[0m\u001b[0;34m\u001b[0m\u001b[0;34m\u001b[0m\u001b[0m\n\u001b[0m\u001b[1;32m     22\u001b[0m \u001b[0;32mfrom\u001b[0m \u001b[0msklearn\u001b[0m\u001b[0;34m.\u001b[0m\u001b[0mmodel_selection\u001b[0m \u001b[0;32mimport\u001b[0m \u001b[0mGridSearchCV\u001b[0m\u001b[0;34m\u001b[0m\u001b[0;34m\u001b[0m\u001b[0m\n\u001b[1;32m     23\u001b[0m \u001b[0;32mfrom\u001b[0m \u001b[0msklearn\u001b[0m\u001b[0;34m.\u001b[0m\u001b[0mensemble\u001b[0m \u001b[0;32mimport\u001b[0m \u001b[0mGradientBoostingClassifier\u001b[0m\u001b[0;34m\u001b[0m\u001b[0;34m\u001b[0m\u001b[0m\n",
            "\u001b[0;32m/usr/local/lib/python3.11/dist-packages/imblearn/__init__.py\u001b[0m in \u001b[0;36m<module>\u001b[0;34m\u001b[0m\n\u001b[1;32m     50\u001b[0m     \u001b[0;31m# process, as it may not be compiled yet\u001b[0m\u001b[0;34m\u001b[0m\u001b[0;34m\u001b[0m\u001b[0m\n\u001b[1;32m     51\u001b[0m \u001b[0;32melse\u001b[0m\u001b[0;34m:\u001b[0m\u001b[0;34m\u001b[0m\u001b[0;34m\u001b[0m\u001b[0m\n\u001b[0;32m---> 52\u001b[0;31m     from . import (\n\u001b[0m\u001b[1;32m     53\u001b[0m         \u001b[0mcombine\u001b[0m\u001b[0;34m,\u001b[0m\u001b[0;34m\u001b[0m\u001b[0;34m\u001b[0m\u001b[0m\n\u001b[1;32m     54\u001b[0m         \u001b[0mensemble\u001b[0m\u001b[0;34m,\u001b[0m\u001b[0;34m\u001b[0m\u001b[0;34m\u001b[0m\u001b[0m\n",
            "\u001b[0;32m/usr/local/lib/python3.11/dist-packages/imblearn/combine/__init__.py\u001b[0m in \u001b[0;36m<module>\u001b[0;34m\u001b[0m\n\u001b[1;32m      3\u001b[0m \"\"\"\n\u001b[1;32m      4\u001b[0m \u001b[0;34m\u001b[0m\u001b[0m\n\u001b[0;32m----> 5\u001b[0;31m \u001b[0;32mfrom\u001b[0m \u001b[0;34m.\u001b[0m\u001b[0m_smote_enn\u001b[0m \u001b[0;32mimport\u001b[0m \u001b[0mSMOTEENN\u001b[0m\u001b[0;34m\u001b[0m\u001b[0;34m\u001b[0m\u001b[0m\n\u001b[0m\u001b[1;32m      6\u001b[0m \u001b[0;32mfrom\u001b[0m \u001b[0;34m.\u001b[0m\u001b[0m_smote_tomek\u001b[0m \u001b[0;32mimport\u001b[0m \u001b[0mSMOTETomek\u001b[0m\u001b[0;34m\u001b[0m\u001b[0;34m\u001b[0m\u001b[0m\n\u001b[1;32m      7\u001b[0m \u001b[0;34m\u001b[0m\u001b[0m\n",
            "\u001b[0;32m/usr/local/lib/python3.11/dist-packages/imblearn/combine/_smote_enn.py\u001b[0m in \u001b[0;36m<module>\u001b[0;34m\u001b[0m\n\u001b[1;32m     10\u001b[0m \u001b[0;32mfrom\u001b[0m \u001b[0msklearn\u001b[0m\u001b[0;34m.\u001b[0m\u001b[0mutils\u001b[0m \u001b[0;32mimport\u001b[0m \u001b[0mcheck_X_y\u001b[0m\u001b[0;34m\u001b[0m\u001b[0;34m\u001b[0m\u001b[0m\n\u001b[1;32m     11\u001b[0m \u001b[0;34m\u001b[0m\u001b[0m\n\u001b[0;32m---> 12\u001b[0;31m \u001b[0;32mfrom\u001b[0m \u001b[0;34m.\u001b[0m\u001b[0;34m.\u001b[0m\u001b[0mbase\u001b[0m \u001b[0;32mimport\u001b[0m \u001b[0mBaseSampler\u001b[0m\u001b[0;34m\u001b[0m\u001b[0;34m\u001b[0m\u001b[0m\n\u001b[0m\u001b[1;32m     13\u001b[0m \u001b[0;32mfrom\u001b[0m \u001b[0;34m.\u001b[0m\u001b[0;34m.\u001b[0m\u001b[0mover_sampling\u001b[0m \u001b[0;32mimport\u001b[0m \u001b[0mSMOTE\u001b[0m\u001b[0;34m\u001b[0m\u001b[0;34m\u001b[0m\u001b[0m\n\u001b[1;32m     14\u001b[0m \u001b[0;32mfrom\u001b[0m \u001b[0;34m.\u001b[0m\u001b[0;34m.\u001b[0m\u001b[0mover_sampling\u001b[0m\u001b[0;34m.\u001b[0m\u001b[0mbase\u001b[0m \u001b[0;32mimport\u001b[0m \u001b[0mBaseOverSampler\u001b[0m\u001b[0;34m\u001b[0m\u001b[0;34m\u001b[0m\u001b[0m\n",
            "\u001b[0;32m/usr/local/lib/python3.11/dist-packages/imblearn/base.py\u001b[0m in \u001b[0;36m<module>\u001b[0;34m\u001b[0m\n\u001b[1;32m     10\u001b[0m \u001b[0;32mfrom\u001b[0m \u001b[0msklearn\u001b[0m\u001b[0;34m.\u001b[0m\u001b[0mbase\u001b[0m \u001b[0;32mimport\u001b[0m \u001b[0mBaseEstimator\u001b[0m\u001b[0;34m,\u001b[0m \u001b[0mOneToOneFeatureMixin\u001b[0m\u001b[0;34m\u001b[0m\u001b[0;34m\u001b[0m\u001b[0m\n\u001b[1;32m     11\u001b[0m \u001b[0;32mfrom\u001b[0m \u001b[0msklearn\u001b[0m\u001b[0;34m.\u001b[0m\u001b[0mpreprocessing\u001b[0m \u001b[0;32mimport\u001b[0m \u001b[0mlabel_binarize\u001b[0m\u001b[0;34m\u001b[0m\u001b[0;34m\u001b[0m\u001b[0m\n\u001b[0;32m---> 12\u001b[0;31m \u001b[0;32mfrom\u001b[0m \u001b[0msklearn\u001b[0m\u001b[0;34m.\u001b[0m\u001b[0mutils\u001b[0m\u001b[0;34m.\u001b[0m\u001b[0m_metadata_requests\u001b[0m \u001b[0;32mimport\u001b[0m \u001b[0mMETHODS\u001b[0m\u001b[0;34m\u001b[0m\u001b[0;34m\u001b[0m\u001b[0m\n\u001b[0m\u001b[1;32m     13\u001b[0m \u001b[0;32mfrom\u001b[0m \u001b[0msklearn\u001b[0m\u001b[0;34m.\u001b[0m\u001b[0mutils\u001b[0m\u001b[0;34m.\u001b[0m\u001b[0mmulticlass\u001b[0m \u001b[0;32mimport\u001b[0m \u001b[0mcheck_classification_targets\u001b[0m\u001b[0;34m\u001b[0m\u001b[0;34m\u001b[0m\u001b[0m\n\u001b[1;32m     14\u001b[0m \u001b[0;34m\u001b[0m\u001b[0m\n",
            "\u001b[0;32m/usr/local/lib/python3.11/dist-packages/sklearn/utils/_metadata_requests.py\u001b[0m in \u001b[0;36m<module>\u001b[0;34m\u001b[0m\n\u001b[1;32m     85\u001b[0m \u001b[0;34m\u001b[0m\u001b[0m\n\u001b[1;32m     86\u001b[0m \u001b[0;32mfrom\u001b[0m \u001b[0;34m.\u001b[0m\u001b[0;34m.\u001b[0m \u001b[0;32mimport\u001b[0m \u001b[0mget_config\u001b[0m\u001b[0;34m\u001b[0m\u001b[0;34m\u001b[0m\u001b[0m\n\u001b[0;32m---> 87\u001b[0;31m \u001b[0;32mfrom\u001b[0m \u001b[0;34m.\u001b[0m\u001b[0;34m.\u001b[0m\u001b[0mexceptions\u001b[0m \u001b[0;32mimport\u001b[0m \u001b[0mUnsetMetadataPassedError\u001b[0m\u001b[0;34m\u001b[0m\u001b[0;34m\u001b[0m\u001b[0m\n\u001b[0m\u001b[1;32m     88\u001b[0m \u001b[0;32mfrom\u001b[0m \u001b[0;34m.\u001b[0m\u001b[0m_bunch\u001b[0m \u001b[0;32mimport\u001b[0m \u001b[0mBunch\u001b[0m\u001b[0;34m\u001b[0m\u001b[0;34m\u001b[0m\u001b[0m\n\u001b[1;32m     89\u001b[0m \u001b[0;34m\u001b[0m\u001b[0m\n",
            "\u001b[0;31mImportError\u001b[0m: cannot import name 'UnsetMetadataPassedError' from 'sklearn.exceptions' (/usr/local/lib/python3.11/dist-packages/sklearn/exceptions.py)",
            "",
            "\u001b[0;31m---------------------------------------------------------------------------\u001b[0;32m\nNOTE: If your import is failing due to a missing package, you can\nmanually install dependencies using either !pip or !apt.\n\nTo view examples of installing some common dependencies, click the\n\"Open Examples\" button below.\n\u001b[0;31m---------------------------------------------------------------------------\u001b[0m\n"
          ],
          "errorDetails": {
            "actions": [
              {
                "action": "open_url",
                "actionText": "Open Examples",
                "url": "/notebooks/snippets/importing_libraries.ipynb"
              }
            ]
          }
        }
      ],
      "source": [
        "# Data manipulation and analysis\n",
        "import pandas as pd\n",
        "import numpy as np\n",
        "\n",
        "# Data visualization\n",
        "import matplotlib.pyplot as plt\n",
        "import seaborn as sns\n",
        "import itertools\n",
        "\n",
        "# Handling dates\n",
        "from datetime import datetime\n",
        "\n",
        "# Statistics\n",
        "from scipy.stats import shapiro\n",
        "\n",
        "# Machine Learning\n",
        "from sklearn.model_selection import train_test_split\n",
        "from sklearn.preprocessing import StandardScaler, LabelEncoder\n",
        "from sklearn.impute import KNNImputer\n",
        "from sklearn.linear_model import LinearRegression\n",
        "from imblearn.over_sampling import SMOTE\n",
        "from sklearn.model_selection import GridSearchCV\n",
        "from sklearn.ensemble import GradientBoostingClassifier\n",
        "import xgboost as xgb\n",
        "\n",
        "# Ensemble learning methods\n",
        "from sklearn.ensemble import RandomForestClassifier, GradientBoostingClassifier\n",
        "\n",
        "# Model evaluation\n",
        "from sklearn.metrics import (\n",
        "    accuracy_score, confusion_matrix, classification_report,\n",
        "    roc_auc_score, roc_curve, ConfusionMatrixDisplay\n",
        ")\n",
        "\n",
        "# Warnings\n",
        "import warnings\n",
        "warnings.filterwarnings('ignore')"
      ]
    },
    {
      "cell_type": "markdown",
      "source": [
        "# **Define Problem Statement and perform Exploratory Data Analysis**"
      ],
      "metadata": {
        "id": "szmFIV5IaBbg"
      }
    },
    {
      "cell_type": "markdown",
      "source": [
        "## **Definition of Problem**\n",
        "\n",
        "Ola is a prominent player in the ride-hailing industry, relying heavily on its driver base to ensure consistent operations and meet customer demand. However, driver attrition poses a significant challenge, leading to operational disruptions, increased recruitment costs, and potential customer dissatisfaction.\n",
        "\n",
        "The objective of this case study is to build a predictive model to identify drivers who are at risk of leaving the platform. By leveraging historical driver data, the model aims to:\n",
        "\n",
        "- Proactively address attrition concerns by identifying at-risk drivers.\n",
        "- Enable strategic interventions, such as targeted incentives or training, to retain drivers.\n",
        "- Maintain a consistent and reliable driver base, ensuring business continuity and customer satisfaction.\n",
        "\n",
        "The ability to predict driver churn is critical for Ola to stay competitive in the dynamic ride-hailing market while minimizing costs associated with driver turnover.\n"
      ],
      "metadata": {
        "id": "7Dwf9t5-aDQ2"
      }
    },
    {
      "cell_type": "markdown",
      "source": [
        "## **Observations on Data**"
      ],
      "metadata": {
        "id": "wU_gAGQFaZIU"
      }
    },
    {
      "cell_type": "code",
      "source": [
        "# Load the CSV file from the URL\n",
        "url = \"https://d2beiqkhq929f0.cloudfront.net/public_assets/assets/000/002/492/original/ola_driver_scaler.csv\"\n",
        "df = pd.read_csv(url)"
      ],
      "metadata": {
        "id": "gq5mM02QcZue"
      },
      "execution_count": null,
      "outputs": []
    },
    {
      "cell_type": "code",
      "source": [
        "# Displaying the first few rows of the dataset to check the structure\n",
        "df.head()"
      ],
      "metadata": {
        "id": "DO2Yi6madB10"
      },
      "execution_count": null,
      "outputs": []
    },
    {
      "cell_type": "code",
      "source": [
        "# Drop the 'Unnamed: 0' column\n",
        "df = df.drop(columns=['Unnamed: 0'])"
      ],
      "metadata": {
        "id": "G-kHeSLVdMrw"
      },
      "execution_count": null,
      "outputs": []
    },
    {
      "cell_type": "code",
      "source": [
        "df.sample(10)"
      ],
      "metadata": {
        "id": "F2IyTNardQpD"
      },
      "execution_count": null,
      "outputs": []
    },
    {
      "cell_type": "code",
      "source": [
        "# Shape of data\n",
        "print(\"No. of rows: \", df.shape[0])\n",
        "print(\"No. of columns: \", df.shape[1])"
      ],
      "metadata": {
        "id": "3DLDB7L4evy7"
      },
      "execution_count": null,
      "outputs": []
    },
    {
      "cell_type": "code",
      "source": [
        "# Overview\n",
        "df.info()"
      ],
      "metadata": {
        "id": "_uB4_MEuew_g"
      },
      "execution_count": null,
      "outputs": []
    },
    {
      "cell_type": "code",
      "source": [
        "# Statistical Summary\n",
        "df.describe()"
      ],
      "metadata": {
        "id": "0cwXRKVqe6SO"
      },
      "execution_count": null,
      "outputs": []
    },
    {
      "cell_type": "markdown",
      "source": [
        "### **Statistical Summary Inference**\n",
        "\n",
        "- **Age**: The average age of drivers is around 34.67 years, with a minimum of 21 years and a maximum of 58 years.\n",
        "- **Gender**: The dataset shows a higher number of male drivers (mean value of 0.42 for gender).\n",
        "- **Education Level**: The majority of drivers have completed their schooling (Education Level = 0 or 1).\n",
        "- **Income**: The average monthly income of drivers is approximately 65,652 with a wide range (from 10,747 to 188,418).\n",
        "- **Total Business Value**: There's significant variation in drivers' total business value, with some negative values, indicating possible refunds or cancellations.\n",
        "- **Quarterly Rating**: The most frequent rating is 2, with a minimum of 1 and maximum of 4, reflecting the variance in driver performance.\n"
      ],
      "metadata": {
        "id": "1PzB1f2TfKyP"
      }
    },
    {
      "cell_type": "markdown",
      "source": [
        "## **Datatype Conversion**"
      ],
      "metadata": {
        "id": "XgHtHdMHgPE0"
      }
    },
    {
      "cell_type": "code",
      "source": [
        "## Converting 'MMM-YY' feature to datetime type\n",
        "df['MMM-YY'] = pd.to_datetime(df['MMM-YY'])\n",
        "\n",
        "## Converting 'Dateofjoining' feature to datetime type\n",
        "df['Dateofjoining'] = pd.to_datetime(df['Dateofjoining'])\n",
        "\n",
        "## Converting 'LastWorkingDate' feature to datetime type\n",
        "df['LastWorkingDate'] = pd.to_datetime(df['LastWorkingDate'])"
      ],
      "metadata": {
        "id": "mNgj_TFwfKbp"
      },
      "execution_count": null,
      "outputs": []
    },
    {
      "cell_type": "code",
      "source": [
        "# Converting to categorical columns\n",
        "categorical_columns = [\"City\", \"Education_Level\", \"Joining Designation\", \"Grade\"]\n",
        "for col in categorical_columns:\n",
        "    df[col] = df[col].astype('category')"
      ],
      "metadata": {
        "id": "s-cqeiO0gxaL"
      },
      "execution_count": null,
      "outputs": []
    },
    {
      "cell_type": "code",
      "source": [
        "df.dtypes"
      ],
      "metadata": {
        "id": "05EcvMwVg8m5"
      },
      "execution_count": null,
      "outputs": []
    },
    {
      "cell_type": "markdown",
      "source": [
        "## **Missing Value Detection and Treatment**"
      ],
      "metadata": {
        "id": "rwRPAsQQhJzf"
      }
    },
    {
      "cell_type": "code",
      "source": [
        "# Getting count of null/missing values in dataset\n",
        "null_values = df.isnull().sum().reset_index(name='null_count')\n",
        "null_values.sort_values(by='null_count',ascending=False,inplace=True)\n",
        "null_values.reset_index(drop=True,inplace=True)\n",
        "null_values"
      ],
      "metadata": {
        "id": "or-abTZKhLq_"
      },
      "execution_count": null,
      "outputs": []
    },
    {
      "cell_type": "code",
      "source": [
        "# Select only numeric columns and exclude 'Driver_ID'\n",
        "numeric_columns = df.select_dtypes(include=['float64', 'int64']).columns\n",
        "columns_for_imputation = numeric_columns.drop('Driver_ID')\n",
        "columns_for_imputation"
      ],
      "metadata": {
        "id": "WAhZ4U1G4OLu"
      },
      "execution_count": null,
      "outputs": []
    },
    {
      "cell_type": "code",
      "source": [
        "# Initialize the KNN imputer\n",
        "knn_imputer = KNNImputer(n_neighbors=5)"
      ],
      "metadata": {
        "id": "OrAx0KHu6MJM"
      },
      "execution_count": null,
      "outputs": []
    },
    {
      "cell_type": "code",
      "source": [
        "# Apply the imputer to the selected columns\n",
        "imputed_data = knn_imputer.fit_transform(df[columns_for_imputation])"
      ],
      "metadata": {
        "id": "aPkXtwVZ6XVS"
      },
      "execution_count": null,
      "outputs": []
    },
    {
      "cell_type": "code",
      "source": [
        "# Replace the imputed values back into the DataFrame\n",
        "df[columns_for_imputation] = imputed_data"
      ],
      "metadata": {
        "id": "RUPUcF9T6l-H"
      },
      "execution_count": null,
      "outputs": []
    },
    {
      "cell_type": "code",
      "source": [
        "# Convert 'Gender' back to categorical\n",
        "df['Gender'] = pd.Categorical(df['Gender'].round().astype(int))"
      ],
      "metadata": {
        "id": "LhKpC9e17dNX"
      },
      "execution_count": null,
      "outputs": []
    },
    {
      "cell_type": "code",
      "source": [
        "# Getting count of null/missing values in dataset\n",
        "null_values = df.isnull().sum().reset_index(name='null_count')\n",
        "null_values.sort_values(by='null_count',ascending=False,inplace=True)\n",
        "null_values.reset_index(drop=True,inplace=True)\n",
        "null_values"
      ],
      "metadata": {
        "id": "m_VtQJkK6nWo"
      },
      "execution_count": null,
      "outputs": []
    },
    {
      "cell_type": "markdown",
      "source": [
        "In the context of the dataset, the `LastWorkingDate` column represents the most recent or final day a driver worked with Ola. It is important to note that the `LastWorkingDate` column will only contain missing values (`NaN`) for drivers who are still active, as they haven't yet had a last working day recorded."
      ],
      "metadata": {
        "id": "lDTdVNZ575i6"
      }
    },
    {
      "cell_type": "markdown",
      "source": [
        "## **Target Variable Creation**"
      ],
      "metadata": {
        "id": "hqgAKx26hY2F"
      }
    },
    {
      "cell_type": "code",
      "source": [
        "# Creating Target Variable\n",
        "df['Is_Churned'] = df['LastWorkingDate'].notnull().astype('category')"
      ],
      "metadata": {
        "id": "bjiWx7oFha1H"
      },
      "execution_count": null,
      "outputs": []
    },
    {
      "cell_type": "code",
      "source": [
        "df.head()"
      ],
      "metadata": {
        "id": "8BuQmIl0iiXq"
      },
      "execution_count": null,
      "outputs": []
    },
    {
      "cell_type": "markdown",
      "source": [
        "## **Creation of Aggregated Datasets**"
      ],
      "metadata": {
        "id": "a-0lE8D731vZ"
      }
    },
    {
      "cell_type": "code",
      "source": [
        "aggregation_dict = {\n",
        "    'Age': 'max',                     # Use the maximum age in the period (driver's age is unlikely to change)\n",
        "    'Gender': 'first',                # Gender remains constant, so first value in the group is used\n",
        "    'City': 'first',                  # City is generally constant, so the first recorded city is used\n",
        "    'Education_Level': 'last',        # Education level is typically unchanged or select latest, use the last value\n",
        "    'Income': 'last',                 # Retain the most recent income value for the driver\n",
        "    'Dateofjoining': 'last',          # Date of joining is fixed for each driver, but we'll take the most recent value in case of multiple records\n",
        "    'LastWorkingDate': 'last',        # Keep the most recent working date, NaT will be retained for inactive periods\n",
        "    'Joining Designation': 'last',    # Designation generally doesn't change often, use the most recent designation\n",
        "    'Grade': 'last',                  # Grade can change, so we take the most recent grade\n",
        "    'Total Business Value': 'sum',    # Summing the total business value across periods\n",
        "    'Quarterly Rating': 'last',       # The last quarterly rating will give the most up-to-date rating\n",
        "    'Is_Churned': 'last'              # The churn flag will be taken from the last record (if a driver churned, this will be 1)\n",
        "}\n",
        "\n",
        "# Apply grouping based on Driver_ID and MMM-YY, then aggregate according to the aggregation_dict\n",
        "df_agg_driver_id_and_reporting = df.groupby(['Driver_ID', 'MMM-YY']).aggregate(aggregation_dict)\n",
        "\n",
        "# Sort the data by Driver_ID and MMM-YY\n",
        "df_agg_driver_id_and_reporting = df_agg_driver_id_and_reporting.sort_index(ascending=[True,True])\n",
        "df_agg_driver_id_and_reporting = df_agg_driver_id_and_reporting.reset_index()\n",
        "df_agg_driver_id_and_reporting.head()"
      ],
      "metadata": {
        "id": "TQU9Hnaq81Z5"
      },
      "execution_count": null,
      "outputs": []
    },
    {
      "cell_type": "code",
      "source": [
        "# Aggregation dictionary for further aggregation on the already grouped data\n",
        "function_dict = {\n",
        "    'Age': 'mean',                    # Average age of the driver over all months\n",
        "    'Gender': 'first',                # First gender encountered (as gender is unlikely to change)\n",
        "    'City': 'first',                  # First city recorded for the driver\n",
        "    'Education_Level': 'last',        # Most recent education level\n",
        "    'Income': 'mean',                 # Average income over time\n",
        "    'Joining Designation': 'last',    # Most recent joining designation\n",
        "    'Grade': 'last',                  # Most recent grade achieved\n",
        "    'Total Business Value': 'sum',    # Total business value over all months\n",
        "    'Quarterly Rating': 'mean',       # Average quarterly rating over time\n",
        "    'Is_Churned': 'last',             # Churn status (the last value will indicate if the driver churned)\n",
        "    'Dateofjoining': 'last',          # Most recent joining date\n",
        "    'LastWorkingDate': 'last'         # Most recent working date (NaT if no working)\n",
        "}\n",
        "\n",
        "# Apply secondary aggregation on the already grouped data\n",
        "final_aggregated_data = df_agg_driver_id_and_reporting.groupby('Driver_ID').agg(function_dict)"
      ],
      "metadata": {
        "id": "8XDaXwv8CpVH"
      },
      "execution_count": null,
      "outputs": []
    },
    {
      "cell_type": "code",
      "source": [
        "# Drop 'Driver_ID' and reset the index\n",
        "final_aggregated_data = final_aggregated_data.reset_index()"
      ],
      "metadata": {
        "id": "52Hb8V_aDtPN"
      },
      "execution_count": null,
      "outputs": []
    },
    {
      "cell_type": "code",
      "source": [
        "final_aggregated_data.head()"
      ],
      "metadata": {
        "id": "J-tA13IhCv7O"
      },
      "execution_count": null,
      "outputs": []
    },
    {
      "cell_type": "markdown",
      "source": [
        "## **Univariate Analysis**"
      ],
      "metadata": {
        "id": "Ueb7cxJU3NZg"
      }
    },
    {
      "cell_type": "markdown",
      "source": [
        "### **Continuous Variables**"
      ],
      "metadata": {
        "id": "c4kI6He_3Tkz"
      }
    },
    {
      "cell_type": "code",
      "source": [
        "# List of continuous variables in the current dataset\n",
        "continuous_vars = [\n",
        "    \"Age\", \"Income\", \"Total Business Value\", \"Quarterly Rating\"\n",
        "]\n",
        "\n",
        "# Number of rows and columns for subplots\n",
        "n_cols = 2\n",
        "n_rows = (len(continuous_vars) + n_cols - 1) // n_cols\n",
        "\n",
        "# Create subplots\n",
        "fig, axes = plt.subplots(n_rows, n_cols, figsize=(15, 5 * n_rows))\n",
        "axes = axes.flatten()\n",
        "\n",
        "for i, var in enumerate(continuous_vars):\n",
        "    sns.histplot(data=final_aggregated_data, x=var, kde=True, bins=30, ax=axes[i], color=\"blue\")\n",
        "    axes[i].set_title(f\"Distribution of {var}\")\n",
        "    axes[i].set_xlabel(var)\n",
        "    axes[i].set_ylabel(\"Frequency\")\n",
        "\n",
        "# Remove unused subplots if any\n",
        "for j in range(i + 1, len(axes)):\n",
        "    fig.delaxes(axes[j])\n",
        "\n",
        "# Adjust layout for better spacing\n",
        "plt.tight_layout()\n",
        "plt.show()"
      ],
      "metadata": {
        "id": "zgWiPJ0_3Pyh"
      },
      "execution_count": null,
      "outputs": []
    },
    {
      "cell_type": "markdown",
      "source": [
        "#### **Inference and Recommendation**\n",
        "\n",
        "> Distribution of Age\n",
        "\n",
        "- **Inference**: The age distribution is right-skewed, with the majority of individuals falling between the ages of 25 and 40. The peak frequency is around the age of 30.\n",
        "- **Recommendation**: Target marketing and services towards individuals aged 25-40, as they represent the largest demographic group.\n",
        "\n",
        "> Distribution of Income\n",
        "\n",
        "- **Inference**: The income distribution is also right-skewed, with most individuals earning between 25,000 and 75,000. The peak frequency is around 50,000.\n",
        "- **Recommendation**: Focus financial products and services on individuals earning between 25,000 and 75,000, as they constitute the majority of the population.\n",
        "\n",
        "> Distribution of Total Business Value\n",
        "\n",
        "- **Inference**: The distribution of total business value is highly right-skewed, with a significant number of businesses having a low total business value. The majority of businesses have a total business value close to zero.\n",
        "- **Recommendation**: Provide support and resources to small businesses with low total business value to help them grow and increase their market share.\n",
        "\n",
        "> Distribution of Quarterly Rating\n",
        "\n",
        "- **Inference**: The quarterly rating distribution is right-skewed, with most ratings clustered around 1.0. There are fewer businesses with higher ratings.\n",
        "- **Recommendation**: Implement strategies to improve the quarterly ratings of businesses, such as customer service training and quality improvement programs."
      ],
      "metadata": {
        "id": "K_HSjj4j-1Ln"
      }
    },
    {
      "cell_type": "markdown",
      "source": [
        "### **Categorical Variables**"
      ],
      "metadata": {
        "id": "IMqDwlDd-JOp"
      }
    },
    {
      "cell_type": "code",
      "source": [
        "# List of categorical variables\n",
        "categorical_vars = [\"Gender\", \"City\", \"Education_Level\", \"Joining Designation\", \"Grade\", \"Is_Churned\"]\n",
        "\n",
        "# Number of rows and columns for subplots\n",
        "n_cols = 2\n",
        "n_rows = (len(categorical_vars) + n_cols - 1) // n_cols\n",
        "\n",
        "# Create subplots\n",
        "fig, axes = plt.subplots(n_rows, n_cols, figsize=(15, 5 * n_rows))\n",
        "axes = axes.flatten()\n",
        "\n",
        "for i, var in enumerate(categorical_vars):\n",
        "    sns.countplot(data=final_aggregated_data, x=var, ax=axes[i], palette=\"viridis\", order=final_aggregated_data[var].value_counts().index)\n",
        "    axes[i].set_title(f\"Distribution of {var}\")\n",
        "    axes[i].set_xlabel(var)\n",
        "    axes[i].set_ylabel(\"Count\")\n",
        "    axes[i].tick_params(axis=\"x\", rotation=45)\n",
        "\n",
        "# Remove unused subplots if any\n",
        "for j in range(i + 1, len(axes)):\n",
        "    fig.delaxes(axes[j])\n",
        "\n",
        "# Adjust layout for better spacing\n",
        "plt.tight_layout()\n",
        "plt.show()"
      ],
      "metadata": {
        "id": "0CH8W65259_p"
      },
      "execution_count": null,
      "outputs": []
    },
    {
      "cell_type": "markdown",
      "source": [
        "#### **Inference and Recommendation**\n",
        "\n",
        "> Distribution of Gender\n",
        "\n",
        "- **Inference**: The dataset has a higher count of individuals with Gender labeled as '0' compared to '1'.\n",
        "- **Recommendation**: Ensure gender diversity in the dataset by balancing the representation of different genders.\n",
        "\n",
        "> Distribution of City\n",
        "\n",
        "- **Inference**: The distribution of individuals across different cities is uneven, with some cities having significantly higher counts than others.\n",
        "- **Recommendation**: Investigate the reasons for the uneven distribution and consider strategies to achieve a more balanced representation across cities.\n",
        "\n",
        "> Distribution of Education Level\n",
        "\n",
        "- **Inference**: The Education Level attribute is fairly evenly distributed across the three categories.\n",
        "- **Recommendation**: Maintain the current balance in education levels, but also consider if additional education levels should be included to capture a broader range of educational backgrounds.\n",
        "\n",
        "> Distribution of Joining Designation\n",
        "\n",
        "- **Inference**: The majority of individuals joined at designation '1', with decreasing counts for higher designations.\n",
        "- **Recommendation**: Evaluate the criteria for joining designations and consider if the distribution aligns with organizational goals and employee career progression.\n",
        "\n",
        "> Distribution of Grade\n",
        "\n",
        "- **Inference**: Most individuals are in Grade '2', followed by '3', '4', and very few in '5'.\n",
        "- **Recommendation**: Assess the grading system to ensure it accurately reflects employee performance and potential. Consider providing support and development opportunities for individuals in lower grades.\n",
        "\n",
        "> Distribution of Is_Churned\n",
        "\n",
        "- **Inference**: A higher count of individuals have not churned (True) compared to those who have churned (False).\n",
        "- **Recommendation**: Analyze the factors contributing to churn and implement retention strategies to reduce the churn rate further.\n"
      ],
      "metadata": {
        "id": "e-890RRZ_3hO"
      }
    },
    {
      "cell_type": "markdown",
      "source": [
        "## **Bivariate Analysis**"
      ],
      "metadata": {
        "id": "FSzC1h9zATek"
      }
    },
    {
      "cell_type": "markdown",
      "source": [
        "### **Continuous vs. Continuous**"
      ],
      "metadata": {
        "id": "0RqEs3hGBqw4"
      }
    },
    {
      "cell_type": "code",
      "source": [
        "# List of continuous variables in the current dataset\n",
        "continuous_vars = [\n",
        "    \"Age\", \"Income\", \"Total Business Value\", \"Quarterly Rating\"\n",
        "]\n",
        "\n",
        "# Number of rows and columns for subplots\n",
        "n_cols = 3\n",
        "n_rows = (len(continuous_vars) * (len(continuous_vars) - 1)) // 6\n",
        "\n",
        "# Create subplots\n",
        "fig, axes = plt.subplots(n_rows, n_cols, figsize=(20, 5 * n_rows))\n",
        "\n",
        "# Flatten the axes for easy iteration\n",
        "axes = axes.flatten()\n",
        "\n",
        "# Create pairwise plots for continuous variables\n",
        "plot_idx = 0\n",
        "for i in range(len(continuous_vars)):\n",
        "    for j in range(i + 1, len(continuous_vars)):\n",
        "        sns.scatterplot(x=final_aggregated_data[continuous_vars[i]], y=final_aggregated_data[continuous_vars[j]], ax=axes[plot_idx])\n",
        "        axes[plot_idx].set_title(f\"{continuous_vars[i]} vs {continuous_vars[j]}\")\n",
        "        axes[plot_idx].set_xlabel(continuous_vars[i])\n",
        "        axes[plot_idx].set_ylabel(continuous_vars[j])\n",
        "        plot_idx += 1\n",
        "\n",
        "# Remove unused subplots\n",
        "for j in range(plot_idx, len(axes)):\n",
        "    fig.delaxes(axes[j])\n",
        "\n",
        "# Adjust layout for better spacing\n",
        "plt.tight_layout()\n",
        "plt.show()"
      ],
      "metadata": {
        "id": "KFX3KsSQAGII"
      },
      "execution_count": null,
      "outputs": []
    },
    {
      "cell_type": "markdown",
      "source": [
        "#### **Inference and Recommendation**\n",
        "\n",
        "> Age vs Income\n",
        "\n",
        "- **Inference**: The scatter plot of Age vs Income shows a positive correlation, indicating that as age increases, income tends to increase as well.\n",
        "- **Recommendation**: Consider implementing age-specific financial planning and career development programs to help individuals maximize their income potential as they age.\n",
        "\n",
        "> Age vs Total Business Value\n",
        "\n",
        "- **Inference**: The scatter plot of Age vs Total Business Value does not show a strong correlation, suggesting that age may not be a significant factor in determining total business value.\n",
        "- **Recommendation**: Focus on other factors that may influence total business value, such as industry type, business strategy, and market conditions.\n",
        "\n",
        "> Age vs Quarterly Rating\n",
        "\n",
        "- **Inference**: The scatter plot of Age vs Quarterly Rating shows no clear correlation, indicating that quarterly ratings are not significantly influenced by age.\n",
        "- **Recommendation**: Investigate other factors that may impact quarterly ratings, such as customer satisfaction, product quality, and service efficiency.\n",
        "\n",
        "> Income vs Total Business Value\n",
        "\n",
        "- **Inference**: The scatter plot of Income vs Total Business Value shows a positive correlation, suggesting that higher income is associated with higher total business value.\n",
        "- **Recommendation**: Develop programs to support income growth for businesses, such as financial consulting, investment opportunities, and revenue optimization strategies.\n",
        "\n",
        "> Income vs Quarterly Rating\n",
        "\n",
        "- **Inference**: The scatter plot of Income vs Quarterly Rating shows no clear correlation, indicating that quarterly ratings are not significantly influenced by income.\n",
        "- **Recommendation**: Explore other factors that may affect quarterly ratings, such as customer feedback, employee performance, and operational processes.\n",
        "\n",
        "> Total Business Value vs Quarterly Rating\n",
        "\n",
        "- **Inference**: The scatter plot of Total Business Value vs Quarterly Rating shows no clear correlation, suggesting that total business value does not significantly impact quarterly ratings.\n",
        "- **Recommendation**: Focus on improving factors that directly influence quarterly ratings, such as customer experience, product development, and marketing efforts."
      ],
      "metadata": {
        "id": "3HeNxdE-Dxrw"
      }
    },
    {
      "cell_type": "markdown",
      "source": [
        "### **Categorical vs. Categorical**"
      ],
      "metadata": {
        "id": "dzu5M7A2HG8k"
      }
    },
    {
      "cell_type": "code",
      "source": [
        "# List of categorical variables in the current dataset\n",
        "categorical_vars = [\n",
        "    \"City\", \"Gender\", \"Education_Level\", \"Joining Designation\", \"Grade\", \"Is_Churned\"\n",
        "]\n",
        "\n",
        "# Calculate all pairwise combinations of the categorical variables\n",
        "combinations = list(itertools.combinations(categorical_vars, 2))\n",
        "\n",
        "# Separate combinations involving \"City\" and others\n",
        "city_combinations = [combo for combo in combinations if \"City\" in combo]\n",
        "other_combinations = [combo for combo in combinations if \"City\" not in combo]\n",
        "\n",
        "# Create subplots for combinations involving \"City\" (one plot per row)\n",
        "for combinations_list, n_cols in [(city_combinations, 1), (other_combinations, 2)]:\n",
        "    # Calculate rows and columns for subplots dynamically\n",
        "    n_rows = (len(combinations_list) + n_cols - 1) // n_cols  # Calculate rows based on combinations count\n",
        "\n",
        "    # Create subplots with a larger figure size\n",
        "    fig, axes = plt.subplots(n_rows, n_cols, figsize=(15, 5 * n_rows))\n",
        "\n",
        "    # Flatten the axes for easy iteration\n",
        "    axes = axes.flatten()\n",
        "\n",
        "    # Create count plots\n",
        "    for plot_idx, (var1, var2) in enumerate(combinations_list):\n",
        "        # Create the count plot\n",
        "        sns.countplot(data=final_aggregated_data, x=var1, hue=var2, ax=axes[plot_idx], palette='Set2')\n",
        "\n",
        "        # Set titles and labels\n",
        "        axes[plot_idx].set_title(f\"{var1} vs {var2}\", fontsize=14)\n",
        "        axes[plot_idx].set_xlabel(var1, fontsize=12)\n",
        "        axes[plot_idx].set_ylabel(\"Count\", fontsize=12)\n",
        "\n",
        "    # Remove unused subplots if any\n",
        "    for j in range(len(combinations_list), len(axes)):\n",
        "        fig.delaxes(axes[j])\n",
        "\n",
        "    # Adjust layout for better spacing\n",
        "    plt.tight_layout()\n",
        "    plt.show()\n"
      ],
      "metadata": {
        "id": "tMTOZdHcCcAT"
      },
      "execution_count": null,
      "outputs": []
    },
    {
      "cell_type": "markdown",
      "source": [
        "#### **Inference and Recommendation**\n",
        "\n",
        "> **City vs Gender**\n",
        "\n",
        "- **Inference**: The distribution of gender (0: Male, 1: Female) varies across cities, with some cities like C8 having a higher female population compared to others.\n",
        "- **Recommendation**: Tailor policies and workplace inclusivity programs to ensure gender balance, especially in cities with notable disparities.\n",
        "\n",
        "> **City vs Education Level**\n",
        "\n",
        "- **Inference**: Education levels (0: Basic, 1: Intermediate, 2: Advanced) are distributed unevenly across cities, with some cities showing a concentration of employees with advanced education levels.\n",
        "- **Recommendation**: Leverage cities with higher education levels for roles requiring specialized skills.\n",
        "\n",
        "> **City vs Joining Designation**\n",
        "\n",
        "- **Inference**: Different joining designations (1 to 5) are concentrated in specific cities, with cities like C20 having a higher representation across various designations.\n",
        "- **Recommendation**: Use cities with diverse designation distributions as hubs for cross-functional teams or leadership development programs.\n",
        "\n",
        "> **City vs Grade**\n",
        "\n",
        "- **Inference**: The distribution of grades (1 to 5) varies by city, with some cities like C20 showing a higher number of employees in higher grades.\n",
        "- **Recommendation**: Focus on cities with higher grades for critical projects and provide training opportunities in cities with lower-grade distributions.\n",
        "\n",
        "> **City vs Is_Churned**\n",
        "\n",
        "- **Inference**: Employee churn is higher in certain cities like C20, indicating potential dissatisfaction or external factors influencing retention.\n",
        "- **Recommendation**: Conduct detailed surveys in cities with high churn rates to identify issues and implement retention strategies, such as better incentives or work-life balance initiatives.\n",
        "\n",
        "> **Gender vs Education Level**\n",
        "\n",
        "- **Inference**: Males (Gender = 0) and females (Gender = 1) have similar distributions across education levels (0: Basic, 1: Intermediate, 2: Advanced), with a slightly higher count of males in advanced education levels.\n",
        "- **Recommendation**: Promote equal opportunities for education advancement, particularly for females, to achieve a more balanced workforce.\n",
        "\n",
        "> **Gender vs Joining Designation**\n",
        "\n",
        "- **Inference**: Males dominate higher joining designations (e.g., 3, 4, and 5), whereas females are more concentrated in lower designations (1 and 2).\n",
        "- **Recommendation**: Encourage leadership training and mentoring programs for females to improve representation in higher designations.\n",
        "\n",
        "> **Gender vs Grade**\n",
        "\n",
        "- **Inference**: Males are more prevalent in higher grades, while females are concentrated in lower grades.\n",
        "- **Recommendation**: Create skill development and grade promotion programs to enhance female representation in higher grades.\n",
        "\n",
        "> **Gender vs Is_Churned**\n",
        "\n",
        "- **Inference**: Both genders show significant churn, but males have a higher churn rate compared to females.\n",
        "- **Recommendation**: Investigate reasons for male churn and implement retention strategies such as flexible work options and better career growth pathways.\n",
        "\n",
        "> **Education Level vs Joining Designation**\n",
        "\n",
        "- **Inference**: Employees with advanced education (2) tend to occupy higher designations (e.g., 3, 4, 5), while basic education (0) is concentrated in lower designations.\n",
        "- **Recommendation**: Focus on recruiting highly educated individuals for roles requiring higher designations and provide upskilling opportunities for existing employees.\n",
        "\n",
        "> **Education Level vs Grade**\n",
        "\n",
        "- **Inference**: Advanced education levels correlate with higher grades, while lower education levels are more concentrated in lower grades.\n",
        "- **Recommendation**: Invest in continuous education and certification programs to enable career progression across all grades.\n",
        "\n",
        "> **Education Level vs Is_Churned**\n",
        "\n",
        "- **Inference**: Churn rates are relatively high across all education levels, with no significant variation.\n",
        "- **Recommendation**: Implement universal employee engagement programs focusing on job satisfaction, regardless of education level.\n",
        "\n",
        "> **Joining Designation vs Grade**\n",
        "\n",
        "- **Inference**: Higher grades are typically associated with higher joining designations, while lower grades are concentrated in designations 1 and 2.\n",
        "- **Recommendation**: Provide structured career progression paths from lower designations to motivate employees and reduce stagnation.\n",
        "\n",
        "> **Joining Designation vs Is_Churned**\n",
        "\n",
        "- **Inference**: Churn is notably high for lower joining designations (1 and 2), while it decreases for higher designations.\n",
        "- **Recommendation**: Focus on retention initiatives for lower designation employees, such as role enrichment and better compensation.\n",
        "\n",
        "> **Grade vs Is_Churned**\n",
        "\n",
        "- **Inference**: Churn is highest among employees in lower grades (1 and 2), while it decreases for higher grades.\n",
        "- **Recommendation**: Improve support systems and growth opportunities for employees in lower grades to reduce churn.\n"
      ],
      "metadata": {
        "id": "zdHjdulfKmpj"
      }
    },
    {
      "cell_type": "markdown",
      "source": [
        "### **Categorical vs. Continuous**"
      ],
      "metadata": {
        "id": "LRfGKDmAKwUb"
      }
    },
    {
      "cell_type": "code",
      "source": [
        "import seaborn as sns\n",
        "import matplotlib.pyplot as plt\n",
        "import itertools\n",
        "\n",
        "# Lists of categorical and continuous variables\n",
        "categorical_vars = [\n",
        "    \"City\", \"Gender\", \"Education_Level\", \"Joining Designation\", \"Grade\", \"Is_Churned\"\n",
        "]\n",
        "continuous_vars = [\"Age\", \"Income\", \"Total Business Value\", \"Quarterly Rating\"]\n",
        "\n",
        "# Generate combinations of categorical and continuous variables\n",
        "combinations = list(itertools.product(categorical_vars, continuous_vars))\n",
        "\n",
        "# Separate combinations involving \"City\" (1 plot per row) from others (2 plots per row)\n",
        "city_combinations = [combo for combo in combinations if combo[0] == \"City\"]\n",
        "other_combinations = [combo for combo in combinations if combo[0] != \"City\"]\n",
        "\n",
        "# Create function to plot based on dynamic layout\n",
        "def plot_combinations(combinations_list, n_cols):\n",
        "    n_rows = (len(combinations_list) + n_cols - 1) // n_cols  # Calculate required rows\n",
        "    fig, axes = plt.subplots(n_rows, n_cols, figsize=(15, 5 * n_rows), squeeze=False)\n",
        "    axes = axes.flatten()  # Flatten axes for iteration\n",
        "\n",
        "    for plot_idx, (cat_var, cont_var) in enumerate(combinations_list):\n",
        "        sns.boxplot(data=final_aggregated_data, x=cat_var, y=cont_var, ax=axes[plot_idx], palette=\"Set2\")\n",
        "        axes[plot_idx].set_title(f\"{cont_var} by {cat_var}\", fontsize=14)\n",
        "        axes[plot_idx].set_xlabel(cat_var, fontsize=12)\n",
        "        axes[plot_idx].set_ylabel(cont_var, fontsize=12)\n",
        "        axes[plot_idx].tick_params(axis=\"x\", rotation=45)\n",
        "\n",
        "    # Remove unused subplots\n",
        "    for i in range(len(combinations_list), len(axes)):\n",
        "        fig.delaxes(axes[i])\n",
        "\n",
        "    # Adjust layout and show the plot\n",
        "    plt.tight_layout()\n",
        "    plt.show()\n",
        "\n",
        "# Plot for City combinations (1 plot per row)\n",
        "plot_combinations(city_combinations, n_cols=1)\n",
        "\n",
        "# Plot for other combinations (2 plots per row)\n",
        "plot_combinations(other_combinations, n_cols=2)"
      ],
      "metadata": {
        "id": "G4ggWeQNN9EN"
      },
      "execution_count": null,
      "outputs": []
    },
    {
      "cell_type": "markdown",
      "source": [
        "#### **Inference and Recommendation**\n",
        "\n",
        "> **Age Distribution by City**\n",
        "\n",
        "- **Inference**: The age distribution varies significantly across cities, with some cities having younger populations (lower median age) and others having older populations (higher median age). Cities like C1 and C2 have relatively younger populations compared to cities like C19 and C20.\n",
        "- **Recommendation**: Tailor services, products, and marketing strategies to the age demographics of each city. For cities with younger populations, focus on products and services that cater to younger age groups. For cities with older populations, prioritize products and services that cater to older age groups.\n",
        "\n",
        "> **Income Distribution by City**\n",
        "\n",
        "- **Inference**: The income distribution shows considerable variation across cities. Some cities, like C5 and C8, have higher median incomes, while others, like C12 and C15, have lower median incomes.\n",
        "- **Recommendation**: Develop income-specific strategies for each city. For cities with higher median incomes, offer premium products and services. For cities with lower median incomes, provide affordable options and financial assistance programs.\n",
        "\n",
        "> **Total Business Value by City**\n",
        "\n",
        "- **Inference**: The total business value distribution indicates that some cities, such as C3 and C10, have businesses with higher overall values, while cities like C6 and C11 have businesses with lower overall values.\n",
        "- **Recommendation**: Support business growth in cities with lower total business values by providing incentives, grants, and resources. In cities with higher total business values, focus on sustaining and enhancing business performance through advanced business solutions and innovation.\n",
        "\n",
        "> **Quarterly Rating Distribution by City**\n",
        "\n",
        "- **Inference**: The quarterly rating distribution shows variation across cities, with some cities like C4 and C7 having higher median quarterly ratings and others like C9 and C14 having lower median ratings.\n",
        "- **Recommendation**: Implement quality improvement programs and customer feedback mechanisms in cities with lower quarterly ratings to enhance business performance. For cities with higher quarterly ratings, maintain high standards and recognize exemplary performance.\n",
        "\n",
        "> **Age by Gender**\n",
        "\n",
        "- **Inference**: The age distribution is relatively similar between genders, with both exhibiting a median age of around 30–35 years.\n",
        "- **Recommendation**: Maintain unbiased age-related policies for both genders and ensure equal opportunities for professional development.\n",
        "\n",
        "> **Income by Gender**\n",
        "\n",
        "- **Inference**: Males (Gender = 0) exhibit slightly higher median income levels than females (Gender = 1).\n",
        "- **Recommendation**: Address gender income disparity by reviewing pay structures and ensuring equal pay for equal roles and contributions.\n",
        "\n",
        "> **Total Business Value by Gender**\n",
        "\n",
        "- **Inference**: Males tend to contribute more to total business value on average than females.\n",
        "- **Recommendation**: Identify and bridge skill gaps for females through training to enhance their contribution to business performance.\n",
        "\n",
        "> **Quarterly Rating by Gender**\n",
        "\n",
        "- **Inference**: Gender does not show a significant impact on quarterly ratings; the median ratings are consistent across genders.\n",
        "- **Recommendation**: Continue evaluating performance based on merit and avoid any potential gender biases.\n",
        "\n",
        "> **Age by Education Level**\n",
        "\n",
        "- **Inference**: Higher education levels (2) tend to be associated with slightly older employees, while lower levels (0) are common among younger employees.\n",
        "- **Recommendation**: Encourage younger employees to pursue advanced education through incentives and scholarships.\n",
        "\n",
        "> **Income by Education Level**\n",
        "\n",
        "- **Inference**: Income increases with education level, with employees at education level 2 earning the highest median income.\n",
        "- **Recommendation**: Promote education advancement among employees to enable better earning potential and productivity.\n",
        "\n",
        "> **Total Business Value by Education Level**\n",
        "\n",
        "- **Inference**: Employees with higher education levels tend to contribute more to business value.\n",
        "- **Recommendation**: Focus recruitment on individuals with advanced education and provide upskilling opportunities for existing employees.\n",
        "\n",
        "> **Quarterly Rating by Education Level**\n",
        "\n",
        "- **Inference**: Higher education levels are correlated with slightly better quarterly ratings, though the variation is minimal.\n",
        "- **Recommendation**: Recognize and reward performance irrespective of education level to maintain a fair environment.\n",
        "\n",
        "> **Age by Joining Designation**\n",
        "\n",
        "- **Inference**: Higher joining designations (e.g., 4 and 5) are associated with older employees, while lower designations attract younger employees.\n",
        "- **Recommendation**: Provide mentoring programs for younger employees in lower designations to prepare them for higher roles.\n",
        "\n",
        "> **Income by Joining Designation**\n",
        "\n",
        "- **Inference**: Income increases with joining designation, with higher designations earning significantly more.\n",
        "- **Recommendation**: Create structured career paths to help employees in lower designations progress to higher income levels.\n",
        "\n",
        "> **Total Business Value by Joining Designation**\n",
        "\n",
        "- **Inference**: Employees in higher designations contribute more to total business value.\n",
        "- **Recommendation**: Provide leadership and business training to lower designation employees to enhance their contributions.\n",
        "\n",
        "> **Quarterly Rating by Joining Designation**\n",
        "\n",
        "- **Inference**: Higher designations tend to receive slightly better quarterly ratings.\n",
        "- **Recommendation**: Continue rewarding performance based on contribution while supporting underperforming designations.\n",
        "\n",
        "> **Age by Grade**\n",
        "\n",
        "- **Inference**: Higher grades are associated with slightly older employees, while lower grades have a younger age distribution.\n",
        "- **Recommendation**: Facilitate professional development for younger employees to enable their transition to higher grades.\n",
        "\n",
        "> **Income by Grade**\n",
        "\n",
        "- **Inference**: Income increases significantly with grade, reflecting higher responsibility and expertise.\n",
        "- **Recommendation**: Use income growth as a motivation for employees in lower grades and support their career advancement.\n",
        "\n",
        "> **Total Business Value by Grade**\n",
        "\n",
        "- **Inference**: Employees in higher grades contribute significantly more to business value than those in lower grades.\n",
        "- **Recommendation**: Provide targeted training to employees in lower grades to boost their contribution to business performance.\n",
        "\n",
        "> **Quarterly Rating by Grade**\n",
        "\n",
        "- **Inference**: Higher grades correlate with slightly better quarterly ratings.\n",
        "- **Recommendation**: Maintain performance evaluation systems and offer support for employees in lower grades.\n",
        "\n",
        "> **Age by Is_Churned**\n",
        "\n",
        "- **Inference**: Churned employees tend to have a slightly younger age distribution compared to retained employees.\n",
        "- **Recommendation**: Introduce retention initiatives focusing on younger employees, such as mentorship programs and growth opportunities.\n",
        "\n",
        "> **Income by Is_Churned**\n",
        "\n",
        "- **Inference**: Churned employees have a slightly lower median income compared to retained employees.\n",
        "- **Recommendation**: Improve compensation packages for roles prone to churn to enhance employee retention.\n",
        "\n",
        "> **Total Business Value by Is_Churned**\n",
        "\n",
        "- **Inference**: Retained employees contribute significantly more to total business value than those who have churned.\n",
        "- **Recommendation**: Focus retention strategies on high-performing employees to safeguard business performance.\n",
        "\n",
        "> **Quarterly Rating by Is_Churned**\n",
        "\n",
        "- **Inference**: Retained employees have higher quarterly ratings compared to those who have churned.\n",
        "- **Recommendation**: Use performance ratings as an indicator to identify employees at risk of churning and address their concerns proactively.\n"
      ],
      "metadata": {
        "id": "amep4jzMQRbI"
      }
    },
    {
      "cell_type": "markdown",
      "source": [
        "## **Correlation Analysis**"
      ],
      "metadata": {
        "id": "4evskyJ9iIrL"
      }
    },
    {
      "cell_type": "code",
      "source": [
        "# Select only numeric columns from the DataFrame\n",
        "numeric_columns = final_aggregated_data[continuous_vars]\n",
        "\n",
        "# Compute the correlation matrix\n",
        "corr_matrix = numeric_columns.corr()\n",
        "\n",
        "# Plot the correlation matrix using seaborn heatmap\n",
        "plt.figure(figsize=(12, 8))  # You can adjust the size of the plot\n",
        "sns.heatmap(corr_matrix, annot=True, cmap='coolwarm', fmt='.2f', linewidths=0.5)\n",
        "plt.title('Correlation Matrix')\n",
        "plt.show()"
      ],
      "metadata": {
        "id": "BVSvtNV7iLAV"
      },
      "execution_count": null,
      "outputs": []
    },
    {
      "cell_type": "markdown",
      "source": [
        "### **Inference and Recommendation**\n",
        "\n",
        "> Age\n",
        "\n",
        "- **Inference**: Age has a weak positive correlation with Income (0.20), Total Business Value (0.23), and Quarterly Rating (0.20).\n",
        "- **Recommendation**: While age shows some positive correlation with other variables, it is not a significant factor. Focus on other variables that show stronger correlations for strategic planning.\n",
        "\n",
        "> Income\n",
        "\n",
        "- **Inference**: Income has a weak positive correlation with Age (0.20) and Quarterly Rating (0.19), and a moderate positive correlation with Total Business Value (0.37).\n",
        "- **Recommendation**: Strategies to increase income could potentially lead to an increase in total business value. Consider initiatives that target both income growth and business value enhancement.\n",
        "\n",
        "> Total Business Value\n",
        "\n",
        "- **Inference**: Total Business Value has a moderate positive correlation with Income (0.37) and a strong positive correlation with Quarterly Rating (0.71).\n",
        "- **Recommendation**: Since Total Business Value and Quarterly Rating have a strong positive correlation, efforts to improve one are likely to positively impact the other. Focus on strategies that enhance both business value and quarterly ratings.\n",
        "\n",
        "> Quarterly Rating\n",
        "\n",
        "- **Inference**: Quarterly Rating has a strong positive correlation with Total Business Value (0.71) and weak positive correlations with Age (0.20) and Income (0.19).\n",
        "- **Recommendation**: Improve quarterly ratings by focusing on factors that contribute to higher business value. Implement quality improvement programs and gather customer feedback to enhance overall ratings.\n"
      ],
      "metadata": {
        "id": "EFdwn3dZi6Oz"
      }
    },
    {
      "cell_type": "markdown",
      "source": [
        "## **Outlier Treatment**"
      ],
      "metadata": {
        "id": "KkztQBF3RD0K"
      }
    },
    {
      "cell_type": "code",
      "source": [
        "plt.figure(figsize=(15, 10))\n",
        "for i, col in enumerate(continuous_vars, 1):\n",
        "    plt.subplot(3, 4, i)\n",
        "    sns.boxplot(final_aggregated_data[col])\n",
        "    plt.title(f'Boxplot of {col}')\n",
        "\n",
        "plt.tight_layout()\n",
        "plt.show()"
      ],
      "metadata": {
        "id": "neTvVXfWhSIu"
      },
      "execution_count": null,
      "outputs": []
    },
    {
      "cell_type": "markdown",
      "source": [
        "### **Inference and Recommendation**\n",
        "\n",
        "> Boxplot of Age\n",
        "\n",
        "- **Inference**: The median age is around 35, with most individuals falling within the interquartile range of 30 to 40. There are several outliers above the age of 50.\n",
        "- **Recommendation**: Tailor services and products primarily to individuals in their 30s, but also consider offerings for older individuals to address their unique needs and preferences.\n",
        "\n",
        "> Boxplot of Income\n",
        "\n",
        "- **Inference**: The median income is approximately 75,000, with the interquartile range spanning from 50,000 to 100,000. There are numerous outliers with incomes above 150,000.\n",
        "- **Recommendation**: Develop premium products and services for higher-income individuals while ensuring affordability and value for the median income group.\n",
        "\n",
        "> Boxplot of Total Business Value\n",
        "\n",
        "- **Inference**: The median total business value is close to zero, with the interquartile range between approximately 0 and 2,000,000. There are many outliers, with values reaching up to 8,000,000.\n",
        "- **Recommendation**: Support small businesses with low total values by providing resources and incentives for growth. Additionally, offer specialized services for high-value businesses to sustain and enhance their performance.\n",
        "\n",
        "> Boxplot of Quarterly Rating\n",
        "\n",
        "- **Inference**: The median quarterly rating is around 1.5, with the interquartile range between approximately 1.0 and 2.0. Several outliers have ratings above 3.5.\n",
        "- **Recommendation**: Investigate the factors contributing to high ratings and replicate these practices across the board. Implement quality improvement programs and gather customer feedback to enhance overall ratings.\n"
      ],
      "metadata": {
        "id": "wvOh88_Nht1Y"
      }
    },
    {
      "cell_type": "markdown",
      "source": [
        "### **Why Outlier Treatment is Not Applied**\n",
        "\n",
        "Outlier treatment is not applied because decision tree-based ensemble methods, such as Random Forest and Gradient Boosting, are robust to outliers. These algorithms split data based on thresholds, making them less sensitive to extreme values. Removing or capping outliers may lead to the loss of critical information, potentially reducing model performance. Hence, preserving the original data distribution ensures better predictive accuracy."
      ],
      "metadata": {
        "id": "lQrK4kFrhkqe"
      }
    },
    {
      "cell_type": "markdown",
      "source": [
        "# **Data Preprocessing**"
      ],
      "metadata": {
        "id": "FAH1NSZshoVF"
      }
    },
    {
      "cell_type": "markdown",
      "source": [
        "## **Duplicate Value Check**"
      ],
      "metadata": {
        "id": "dpf0kb3qjSBS"
      }
    },
    {
      "cell_type": "code",
      "source": [
        "# Checking the number of duplicate for all the features\n",
        "duplicate_records = final_aggregated_data[final_aggregated_data.duplicated()]\n",
        "print(f\"Number of duplicate records: {duplicate_records.shape[0]}\")"
      ],
      "metadata": {
        "id": "WJd9yOdzjYBF"
      },
      "execution_count": null,
      "outputs": []
    },
    {
      "cell_type": "markdown",
      "source": [
        "## **Missing Value Treatment**"
      ],
      "metadata": {
        "id": "LjhBPeFPjf22"
      }
    },
    {
      "cell_type": "code",
      "source": [
        "# Getting count of null/missing values in dataset\n",
        "null_values = final_aggregated_data.isnull().sum().reset_index(name='null_count')\n",
        "null_values.sort_values(by='null_count',ascending=False,inplace=True)\n",
        "null_values.reset_index(drop=True,inplace=True)\n",
        "null_values[null_values['null_count']>0]"
      ],
      "metadata": {
        "id": "QWcgv51Ajk94"
      },
      "execution_count": null,
      "outputs": []
    },
    {
      "cell_type": "markdown",
      "source": [
        ">We will treat nulls in `LastWorkingDate` in feature engineering section after extracting some useful information from this column."
      ],
      "metadata": {
        "id": "f_3Fmi48jqR8"
      }
    },
    {
      "cell_type": "markdown",
      "source": [
        "## **Feature Engineering**"
      ],
      "metadata": {
        "id": "M80pWvdqj_Vr"
      }
    },
    {
      "cell_type": "markdown",
      "source": [
        "### **Extracting Feature from Date Columns**"
      ],
      "metadata": {
        "id": "HgA08cw7lFZJ"
      }
    },
    {
      "cell_type": "code",
      "source": [
        "def extract_date_features(df, date_column, prefix):\n",
        "    \"\"\"\n",
        "    Extracts features like month, year, quarter, and week from a date column.\n",
        "    Handles NaT values by replacing them with -1.\n",
        "\n",
        "    Args:\n",
        "        df (pd.DataFrame): The DataFrame containing the date column.\n",
        "        date_column (str): The name of the date column.\n",
        "        prefix (str): The prefix for the new feature columns.\n",
        "\n",
        "    Returns:\n",
        "        pd.DataFrame: The DataFrame with new feature columns added.\n",
        "    \"\"\"\n",
        "    df[f'{prefix}_Month'] = df[date_column].apply(lambda x: x.month if pd.notna(x) else -1)\n",
        "    df[f'{prefix}_Year'] = df[date_column].apply(lambda x: x.year if pd.notna(x) else -1)\n",
        "    df[f'{prefix}_Quarter'] = df[date_column].apply(lambda x: x.quarter if pd.notna(x) else -1)\n",
        "    df[f'{prefix}_Week'] = df[date_column].apply(lambda x: x.isocalendar()[1] if pd.notna(x) else -1)\n",
        "    df.drop(columns=[date_column], inplace=True)\n",
        "    return df"
      ],
      "metadata": {
        "id": "uq4mi_SekKCM"
      },
      "execution_count": null,
      "outputs": []
    },
    {
      "cell_type": "code",
      "source": [
        "# Extract features from 'Dateofjoining' and 'LastWorkingDate' for df_agg_driver_id_and_reporting\n",
        "df_agg_driver_id_and_reporting = extract_date_features(\n",
        "    df_agg_driver_id_and_reporting, 'Dateofjoining', 'Joining'\n",
        ")\n",
        "df_agg_driver_id_and_reporting = extract_date_features(\n",
        "    df_agg_driver_id_and_reporting, 'LastWorkingDate', 'LastWorking'\n",
        ")\n",
        "\n",
        "# Extract features from 'Dateofjoining' and 'LastWorkingDate' for final_aggregated_data\n",
        "final_aggregated_data = extract_date_features(\n",
        "    final_aggregated_data, 'Dateofjoining', 'Joining'\n",
        ")\n",
        "final_aggregated_data = extract_date_features(\n",
        "    final_aggregated_data, 'LastWorkingDate', 'LastWorking'\n",
        ")"
      ],
      "metadata": {
        "id": "r-wqJxAAlaHp"
      },
      "execution_count": null,
      "outputs": []
    },
    {
      "cell_type": "markdown",
      "source": [
        "### **Extracting Feature on the basis of trend line**"
      ],
      "metadata": {
        "id": "po2Qo474mvXO"
      }
    },
    {
      "cell_type": "code",
      "source": [
        "def mark_increased_values_with_trend_line_dynamic(df_agg, df_final, column_name):\n",
        "    \"\"\"\n",
        "    Function to identify Driver_IDs where the values in a specified column\n",
        "    have increased based on linear regression (trend line).\n",
        "\n",
        "    Parameters:\n",
        "    - df_agg: DataFrame with aggregated driver data.\n",
        "    - df_final: DataFrame with final aggregated data.\n",
        "    - column_name: The name of the column to check for increasing values.\n",
        "\n",
        "    Returns:\n",
        "    - df_final: The final dataframe with an added column indicating whether the values have increased.\n",
        "    \"\"\"\n",
        "\n",
        "    increased_driver_ids = []  # List to store Driver_IDs where the trend line slope is positive\n",
        "\n",
        "    # Iterate over unique Driver_IDs\n",
        "    for driver_id in df_agg['Driver_ID'].unique():\n",
        "        # Filter the data for the current Driver_ID\n",
        "        driver_data = df_agg[df_agg['Driver_ID'] == driver_id]\n",
        "\n",
        "        # Create the feature (index) and target (values) for the regression model\n",
        "        X = np.array(range(len(driver_data))).reshape(-1, 1)  # Time index (0, 1, 2, ... ordered by time)\n",
        "        y = driver_data[column_name].values  # The target column values\n",
        "\n",
        "        # Fit a linear regression model\n",
        "        model = LinearRegression()\n",
        "        model.fit(X, y)\n",
        "\n",
        "        # Check if the slope (coefficient) is positive\n",
        "        if model.coef_[0] > 0:  # Positive slope means the values are increasing\n",
        "            increased_driver_ids.append(driver_id)\n",
        "\n",
        "    # Dynamically print the count of drivers with increasing values\n",
        "    print(f\"Number of Driver_IDs with increasing {column_name}: {len(increased_driver_ids)}\")\n",
        "\n",
        "    # Add the result to the final dataframe\n",
        "    df_final[f'is_{column_name}_increased'] = df_final['Driver_ID'].apply(\n",
        "        lambda x: x in increased_driver_ids\n",
        "    )\n",
        "\n",
        "    return df_final"
      ],
      "metadata": {
        "id": "VOplvA7_mo_v"
      },
      "execution_count": null,
      "outputs": []
    },
    {
      "cell_type": "code",
      "source": [
        "final_aggregated_data = mark_increased_values_with_trend_line_dynamic(df_agg_driver_id_and_reporting, final_aggregated_data, column_name='Total Business Value')\n",
        "final_aggregated_data = mark_increased_values_with_trend_line_dynamic(df_agg_driver_id_and_reporting, final_aggregated_data, column_name='Quarterly Rating')\n",
        "final_aggregated_data = mark_increased_values_with_trend_line_dynamic(df_agg_driver_id_and_reporting, final_aggregated_data, column_name='Income')\n",
        "final_aggregated_data = mark_increased_values_with_trend_line_dynamic(df_agg_driver_id_and_reporting, final_aggregated_data, column_name='Grade')"
      ],
      "metadata": {
        "id": "Dxg9m_yqm42r"
      },
      "execution_count": null,
      "outputs": []
    },
    {
      "cell_type": "code",
      "source": [
        "final_aggregated_data.sample(5)"
      ],
      "metadata": {
        "id": "DFiF-MxbllxF"
      },
      "execution_count": null,
      "outputs": []
    },
    {
      "cell_type": "markdown",
      "source": [
        "## **Data Preparation for Modeling**"
      ],
      "metadata": {
        "id": "779Dw8Kpqi6T"
      }
    },
    {
      "cell_type": "markdown",
      "source": [
        "### **Datatype Conversion to numeric**"
      ],
      "metadata": {
        "id": "XdLX6Ya8pb27"
      }
    },
    {
      "cell_type": "code",
      "source": [
        "binary_columns = ['Gender', 'Is_Churned',\n",
        "                  'is_Quarterly Rating_increased', 'is_Income_increased',\n",
        "                  'is_Grade_increased', 'is_Total Business Value_increased']\n",
        "for col in binary_columns:\n",
        "    final_aggregated_data[col] = final_aggregated_data[col].astype(int)"
      ],
      "metadata": {
        "id": "Mj5aT4xMpubk"
      },
      "execution_count": null,
      "outputs": []
    },
    {
      "cell_type": "code",
      "source": [
        "categorical_columns = [\"Education_Level\", \"Joining Designation\", \"Grade\"]\n",
        "\n",
        "# Convert categorical columns to integer\n",
        "for col in categorical_columns:\n",
        "    final_aggregated_data[col] = final_aggregated_data[col].cat.codes"
      ],
      "metadata": {
        "id": "OkW0rkikqO-p"
      },
      "execution_count": null,
      "outputs": []
    },
    {
      "cell_type": "markdown",
      "source": [
        "### **Encoding**"
      ],
      "metadata": {
        "id": "dS3M2P50qo6o"
      }
    },
    {
      "cell_type": "code",
      "source": [
        "# Initialize the LabelEncoder\n",
        "le = LabelEncoder()\n",
        "\n",
        "# Apply Label Encoding on the 'City' column as decision tree based model can handle it\n",
        "final_aggregated_data['City'] = le.fit_transform(final_aggregated_data['City'])"
      ],
      "metadata": {
        "id": "MTWKt3CGqrMn"
      },
      "execution_count": null,
      "outputs": []
    },
    {
      "cell_type": "code",
      "source": [
        "final_aggregated_data.head()"
      ],
      "metadata": {
        "id": "vHwoq2pNp57p"
      },
      "execution_count": null,
      "outputs": []
    },
    {
      "cell_type": "markdown",
      "source": [
        "## **Identify normal vs skewed**"
      ],
      "metadata": {
        "id": "cp13SK0TsaXX"
      }
    },
    {
      "cell_type": "code",
      "source": [
        "# Perform Shapiro-Wilk test for normality\n",
        "for column in final_aggregated_data.columns:\n",
        "    stat, p_value = shapiro(final_aggregated_data[column])\n",
        "    if p_value > 0.05:\n",
        "        print(f\"{column} follows a normal distribution.\")\n",
        "    else:\n",
        "        print(f\"{column} is not normal.\")"
      ],
      "metadata": {
        "id": "Uwi8SDEYsdHG"
      },
      "execution_count": null,
      "outputs": []
    },
    {
      "cell_type": "markdown",
      "source": [
        "# **Model Building**"
      ],
      "metadata": {
        "id": "U8ZpP4Iy6XZl"
      }
    },
    {
      "cell_type": "markdown",
      "source": [
        "## **Train-Test Split**"
      ],
      "metadata": {
        "id": "21-0E5Yw6Z2v"
      }
    },
    {
      "cell_type": "code",
      "source": [
        "# Define features (X) and target (y)\n",
        "X = final_aggregated_data.drop(columns=['Driver_ID', 'Is_Churned'])  # Dropping 'Driver_ID' and target column\n",
        "y = final_aggregated_data['Is_Churned']  # Target variable\n",
        "\n",
        "# Split the data into training and testing sets (75% train, 25% test)\n",
        "X_train, X_test, y_train, y_test = train_test_split(X, y, test_size=0.2, random_state=7)\n",
        "\n",
        "# Show the shape of the resulting datasets\n",
        "print(f\"Training data shape: X_train = {X_train.shape}, y_train = {y_train.shape}\")\n",
        "print(f\"Test data shape: X_test = {X_test.shape}, y_test = {y_test.shape}\")"
      ],
      "metadata": {
        "id": "kbQ50ds16hNx"
      },
      "execution_count": null,
      "outputs": []
    },
    {
      "cell_type": "markdown",
      "source": [
        "## **Data Normalization/Standardization**"
      ],
      "metadata": {
        "id": "3-NkuJbO7Cpz"
      }
    },
    {
      "cell_type": "code",
      "source": [
        "# Initialize the scaler\n",
        "scaler = StandardScaler()\n",
        "\n",
        "# Fit and transform on the training data\n",
        "X_train_scaled = scaler.fit_transform(X_train)\n",
        "\n",
        "# Convert back to DataFrame, preserving the column names\n",
        "X_train_scaled_df = pd.DataFrame(X_train_scaled, columns=X_train.columns)\n",
        "\n",
        "# For the test data, just transform it using the fitted scaler\n",
        "X_test_scaled = scaler.transform(X_test)\n",
        "\n",
        "# Convert back to DataFrame, preserving the column names\n",
        "X_test_scaled_df = pd.DataFrame(X_test_scaled, columns=X_test.columns)"
      ],
      "metadata": {
        "id": "JfvYyvyX7COy"
      },
      "execution_count": null,
      "outputs": []
    },
    {
      "cell_type": "code",
      "source": [
        "X_train_scaled_df.head()"
      ],
      "metadata": {
        "id": "AaZjxFVW7M1Y"
      },
      "execution_count": null,
      "outputs": []
    },
    {
      "cell_type": "markdown",
      "source": [
        "## **Handling Class Imbalance**"
      ],
      "metadata": {
        "id": "LvzYFTcH7bb6"
      }
    },
    {
      "cell_type": "code",
      "source": [
        "# Count the instances of each class\n",
        "class_counts = y_train.value_counts()\n",
        "\n",
        "# Plot the class distribution\n",
        "plt.figure(figsize=(8, 6))\n",
        "sns.barplot(x=class_counts.index, y=class_counts.values, palette='viridis')\n",
        "plt.title(\"Class Distribution in Training Data\", fontsize=16)\n",
        "plt.xlabel(\"Class\", fontsize=14)\n",
        "plt.ylabel(\"Count\", fontsize=14)\n",
        "plt.xticks([0, 1], ['Class 0', 'Class 1'])\n",
        "plt.show()"
      ],
      "metadata": {
        "id": "5h-yiE5C7QhB"
      },
      "execution_count": null,
      "outputs": []
    },
    {
      "cell_type": "code",
      "source": [
        "# Initialize SMOTE\n",
        "smote = SMOTE(random_state=1)\n",
        "\n",
        "# Apply SMOTE only to the training data\n",
        "X_train_scaled_df, y_train = smote.fit_resample(X_train_scaled_df, y_train)\n",
        "\n",
        "# Check the class distribution after SMOTE\n",
        "print(\"Class distribution after SMOTE:\")\n",
        "print(y_train.value_counts())"
      ],
      "metadata": {
        "id": "O0htlHfR7h3K"
      },
      "execution_count": null,
      "outputs": []
    },
    {
      "cell_type": "markdown",
      "source": [
        "## **Ensemble Learning: Bagging**"
      ],
      "metadata": {
        "id": "1M6QfRPq8RyI"
      }
    },
    {
      "cell_type": "markdown",
      "source": [
        "### **Random Forest Classifier**"
      ],
      "metadata": {
        "id": "Ynu81BdL8VG0"
      }
    },
    {
      "cell_type": "code",
      "source": [
        "# Initialize the model\n",
        "rf = RandomForestClassifier()"
      ],
      "metadata": {
        "id": "OBy2H4Ho7nyy"
      },
      "execution_count": 116,
      "outputs": []
    },
    {
      "cell_type": "code",
      "source": [
        "# Define the hyperparameter grid\n",
        "param_grid = {\n",
        "    'n_estimators': [50, 75, 100],\n",
        "    'max_depth': [3, 5, 7, 10],\n",
        "    'max_features': ['log2', 'sqrt'],\n",
        "    'max_samples': [0.7, 0.8, 0.9],\n",
        "    'min_samples_split': [2, 5, 10],\n",
        "    'min_samples_leaf': [2, 5, 10],\n",
        "    'bootstrap': [True, False]\n",
        "}"
      ],
      "metadata": {
        "id": "72JZbxVo8g16"
      },
      "execution_count": 117,
      "outputs": []
    },
    {
      "cell_type": "code",
      "source": [
        "# Initialize the GridSearchCV with cross-validation (cv=5 means 5-fold cross-validation)\n",
        "grid_search = GridSearchCV(estimator=rf, param_grid=param_grid, cv=5, n_jobs=-1, scoring='recall')\n",
        "\n",
        "# Fit grid search on the training data\n",
        "grid_search.fit(X_train_scaled_df, y_train)"
      ],
      "metadata": {
        "colab": {
          "base_uri": "https://localhost:8080/",
          "height": 165
        },
        "id": "sii7SV6e8jMJ",
        "outputId": "3cc52557-c793-4870-e4f6-ea3b9612b79e"
      },
      "execution_count": 118,
      "outputs": [
        {
          "output_type": "execute_result",
          "data": {
            "text/plain": [
              "GridSearchCV(cv=5, estimator=RandomForestClassifier(), n_jobs=-1,\n",
              "             param_grid={'bootstrap': [True, False], 'max_depth': [3, 5, 7, 10],\n",
              "                         'max_features': ['log2', 'sqrt'],\n",
              "                         'max_samples': [0.7, 0.8, 0.9],\n",
              "                         'min_samples_leaf': [2, 5, 10],\n",
              "                         'min_samples_split': [2, 5, 10],\n",
              "                         'n_estimators': [50, 75, 100]},\n",
              "             scoring='recall')"
            ],
            "text/html": [
              "<style>#sk-container-id-2 {\n",
              "  /* Definition of color scheme common for light and dark mode */\n",
              "  --sklearn-color-text: #000;\n",
              "  --sklearn-color-text-muted: #666;\n",
              "  --sklearn-color-line: gray;\n",
              "  /* Definition of color scheme for unfitted estimators */\n",
              "  --sklearn-color-unfitted-level-0: #fff5e6;\n",
              "  --sklearn-color-unfitted-level-1: #f6e4d2;\n",
              "  --sklearn-color-unfitted-level-2: #ffe0b3;\n",
              "  --sklearn-color-unfitted-level-3: chocolate;\n",
              "  /* Definition of color scheme for fitted estimators */\n",
              "  --sklearn-color-fitted-level-0: #f0f8ff;\n",
              "  --sklearn-color-fitted-level-1: #d4ebff;\n",
              "  --sklearn-color-fitted-level-2: #b3dbfd;\n",
              "  --sklearn-color-fitted-level-3: cornflowerblue;\n",
              "\n",
              "  /* Specific color for light theme */\n",
              "  --sklearn-color-text-on-default-background: var(--sg-text-color, var(--theme-code-foreground, var(--jp-content-font-color1, black)));\n",
              "  --sklearn-color-background: var(--sg-background-color, var(--theme-background, var(--jp-layout-color0, white)));\n",
              "  --sklearn-color-border-box: var(--sg-text-color, var(--theme-code-foreground, var(--jp-content-font-color1, black)));\n",
              "  --sklearn-color-icon: #696969;\n",
              "\n",
              "  @media (prefers-color-scheme: dark) {\n",
              "    /* Redefinition of color scheme for dark theme */\n",
              "    --sklearn-color-text-on-default-background: var(--sg-text-color, var(--theme-code-foreground, var(--jp-content-font-color1, white)));\n",
              "    --sklearn-color-background: var(--sg-background-color, var(--theme-background, var(--jp-layout-color0, #111)));\n",
              "    --sklearn-color-border-box: var(--sg-text-color, var(--theme-code-foreground, var(--jp-content-font-color1, white)));\n",
              "    --sklearn-color-icon: #878787;\n",
              "  }\n",
              "}\n",
              "\n",
              "#sk-container-id-2 {\n",
              "  color: var(--sklearn-color-text);\n",
              "}\n",
              "\n",
              "#sk-container-id-2 pre {\n",
              "  padding: 0;\n",
              "}\n",
              "\n",
              "#sk-container-id-2 input.sk-hidden--visually {\n",
              "  border: 0;\n",
              "  clip: rect(1px 1px 1px 1px);\n",
              "  clip: rect(1px, 1px, 1px, 1px);\n",
              "  height: 1px;\n",
              "  margin: -1px;\n",
              "  overflow: hidden;\n",
              "  padding: 0;\n",
              "  position: absolute;\n",
              "  width: 1px;\n",
              "}\n",
              "\n",
              "#sk-container-id-2 div.sk-dashed-wrapped {\n",
              "  border: 1px dashed var(--sklearn-color-line);\n",
              "  margin: 0 0.4em 0.5em 0.4em;\n",
              "  box-sizing: border-box;\n",
              "  padding-bottom: 0.4em;\n",
              "  background-color: var(--sklearn-color-background);\n",
              "}\n",
              "\n",
              "#sk-container-id-2 div.sk-container {\n",
              "  /* jupyter's `normalize.less` sets `[hidden] { display: none; }`\n",
              "     but bootstrap.min.css set `[hidden] { display: none !important; }`\n",
              "     so we also need the `!important` here to be able to override the\n",
              "     default hidden behavior on the sphinx rendered scikit-learn.org.\n",
              "     See: https://github.com/scikit-learn/scikit-learn/issues/21755 */\n",
              "  display: inline-block !important;\n",
              "  position: relative;\n",
              "}\n",
              "\n",
              "#sk-container-id-2 div.sk-text-repr-fallback {\n",
              "  display: none;\n",
              "}\n",
              "\n",
              "div.sk-parallel-item,\n",
              "div.sk-serial,\n",
              "div.sk-item {\n",
              "  /* draw centered vertical line to link estimators */\n",
              "  background-image: linear-gradient(var(--sklearn-color-text-on-default-background), var(--sklearn-color-text-on-default-background));\n",
              "  background-size: 2px 100%;\n",
              "  background-repeat: no-repeat;\n",
              "  background-position: center center;\n",
              "}\n",
              "\n",
              "/* Parallel-specific style estimator block */\n",
              "\n",
              "#sk-container-id-2 div.sk-parallel-item::after {\n",
              "  content: \"\";\n",
              "  width: 100%;\n",
              "  border-bottom: 2px solid var(--sklearn-color-text-on-default-background);\n",
              "  flex-grow: 1;\n",
              "}\n",
              "\n",
              "#sk-container-id-2 div.sk-parallel {\n",
              "  display: flex;\n",
              "  align-items: stretch;\n",
              "  justify-content: center;\n",
              "  background-color: var(--sklearn-color-background);\n",
              "  position: relative;\n",
              "}\n",
              "\n",
              "#sk-container-id-2 div.sk-parallel-item {\n",
              "  display: flex;\n",
              "  flex-direction: column;\n",
              "}\n",
              "\n",
              "#sk-container-id-2 div.sk-parallel-item:first-child::after {\n",
              "  align-self: flex-end;\n",
              "  width: 50%;\n",
              "}\n",
              "\n",
              "#sk-container-id-2 div.sk-parallel-item:last-child::after {\n",
              "  align-self: flex-start;\n",
              "  width: 50%;\n",
              "}\n",
              "\n",
              "#sk-container-id-2 div.sk-parallel-item:only-child::after {\n",
              "  width: 0;\n",
              "}\n",
              "\n",
              "/* Serial-specific style estimator block */\n",
              "\n",
              "#sk-container-id-2 div.sk-serial {\n",
              "  display: flex;\n",
              "  flex-direction: column;\n",
              "  align-items: center;\n",
              "  background-color: var(--sklearn-color-background);\n",
              "  padding-right: 1em;\n",
              "  padding-left: 1em;\n",
              "}\n",
              "\n",
              "\n",
              "/* Toggleable style: style used for estimator/Pipeline/ColumnTransformer box that is\n",
              "clickable and can be expanded/collapsed.\n",
              "- Pipeline and ColumnTransformer use this feature and define the default style\n",
              "- Estimators will overwrite some part of the style using the `sk-estimator` class\n",
              "*/\n",
              "\n",
              "/* Pipeline and ColumnTransformer style (default) */\n",
              "\n",
              "#sk-container-id-2 div.sk-toggleable {\n",
              "  /* Default theme specific background. It is overwritten whether we have a\n",
              "  specific estimator or a Pipeline/ColumnTransformer */\n",
              "  background-color: var(--sklearn-color-background);\n",
              "}\n",
              "\n",
              "/* Toggleable label */\n",
              "#sk-container-id-2 label.sk-toggleable__label {\n",
              "  cursor: pointer;\n",
              "  display: flex;\n",
              "  width: 100%;\n",
              "  margin-bottom: 0;\n",
              "  padding: 0.5em;\n",
              "  box-sizing: border-box;\n",
              "  text-align: center;\n",
              "  align-items: start;\n",
              "  justify-content: space-between;\n",
              "  gap: 0.5em;\n",
              "}\n",
              "\n",
              "#sk-container-id-2 label.sk-toggleable__label .caption {\n",
              "  font-size: 0.6rem;\n",
              "  font-weight: lighter;\n",
              "  color: var(--sklearn-color-text-muted);\n",
              "}\n",
              "\n",
              "#sk-container-id-2 label.sk-toggleable__label-arrow:before {\n",
              "  /* Arrow on the left of the label */\n",
              "  content: \"▸\";\n",
              "  float: left;\n",
              "  margin-right: 0.25em;\n",
              "  color: var(--sklearn-color-icon);\n",
              "}\n",
              "\n",
              "#sk-container-id-2 label.sk-toggleable__label-arrow:hover:before {\n",
              "  color: var(--sklearn-color-text);\n",
              "}\n",
              "\n",
              "/* Toggleable content - dropdown */\n",
              "\n",
              "#sk-container-id-2 div.sk-toggleable__content {\n",
              "  max-height: 0;\n",
              "  max-width: 0;\n",
              "  overflow: hidden;\n",
              "  text-align: left;\n",
              "  /* unfitted */\n",
              "  background-color: var(--sklearn-color-unfitted-level-0);\n",
              "}\n",
              "\n",
              "#sk-container-id-2 div.sk-toggleable__content.fitted {\n",
              "  /* fitted */\n",
              "  background-color: var(--sklearn-color-fitted-level-0);\n",
              "}\n",
              "\n",
              "#sk-container-id-2 div.sk-toggleable__content pre {\n",
              "  margin: 0.2em;\n",
              "  border-radius: 0.25em;\n",
              "  color: var(--sklearn-color-text);\n",
              "  /* unfitted */\n",
              "  background-color: var(--sklearn-color-unfitted-level-0);\n",
              "}\n",
              "\n",
              "#sk-container-id-2 div.sk-toggleable__content.fitted pre {\n",
              "  /* unfitted */\n",
              "  background-color: var(--sklearn-color-fitted-level-0);\n",
              "}\n",
              "\n",
              "#sk-container-id-2 input.sk-toggleable__control:checked~div.sk-toggleable__content {\n",
              "  /* Expand drop-down */\n",
              "  max-height: 200px;\n",
              "  max-width: 100%;\n",
              "  overflow: auto;\n",
              "}\n",
              "\n",
              "#sk-container-id-2 input.sk-toggleable__control:checked~label.sk-toggleable__label-arrow:before {\n",
              "  content: \"▾\";\n",
              "}\n",
              "\n",
              "/* Pipeline/ColumnTransformer-specific style */\n",
              "\n",
              "#sk-container-id-2 div.sk-label input.sk-toggleable__control:checked~label.sk-toggleable__label {\n",
              "  color: var(--sklearn-color-text);\n",
              "  background-color: var(--sklearn-color-unfitted-level-2);\n",
              "}\n",
              "\n",
              "#sk-container-id-2 div.sk-label.fitted input.sk-toggleable__control:checked~label.sk-toggleable__label {\n",
              "  background-color: var(--sklearn-color-fitted-level-2);\n",
              "}\n",
              "\n",
              "/* Estimator-specific style */\n",
              "\n",
              "/* Colorize estimator box */\n",
              "#sk-container-id-2 div.sk-estimator input.sk-toggleable__control:checked~label.sk-toggleable__label {\n",
              "  /* unfitted */\n",
              "  background-color: var(--sklearn-color-unfitted-level-2);\n",
              "}\n",
              "\n",
              "#sk-container-id-2 div.sk-estimator.fitted input.sk-toggleable__control:checked~label.sk-toggleable__label {\n",
              "  /* fitted */\n",
              "  background-color: var(--sklearn-color-fitted-level-2);\n",
              "}\n",
              "\n",
              "#sk-container-id-2 div.sk-label label.sk-toggleable__label,\n",
              "#sk-container-id-2 div.sk-label label {\n",
              "  /* The background is the default theme color */\n",
              "  color: var(--sklearn-color-text-on-default-background);\n",
              "}\n",
              "\n",
              "/* On hover, darken the color of the background */\n",
              "#sk-container-id-2 div.sk-label:hover label.sk-toggleable__label {\n",
              "  color: var(--sklearn-color-text);\n",
              "  background-color: var(--sklearn-color-unfitted-level-2);\n",
              "}\n",
              "\n",
              "/* Label box, darken color on hover, fitted */\n",
              "#sk-container-id-2 div.sk-label.fitted:hover label.sk-toggleable__label.fitted {\n",
              "  color: var(--sklearn-color-text);\n",
              "  background-color: var(--sklearn-color-fitted-level-2);\n",
              "}\n",
              "\n",
              "/* Estimator label */\n",
              "\n",
              "#sk-container-id-2 div.sk-label label {\n",
              "  font-family: monospace;\n",
              "  font-weight: bold;\n",
              "  display: inline-block;\n",
              "  line-height: 1.2em;\n",
              "}\n",
              "\n",
              "#sk-container-id-2 div.sk-label-container {\n",
              "  text-align: center;\n",
              "}\n",
              "\n",
              "/* Estimator-specific */\n",
              "#sk-container-id-2 div.sk-estimator {\n",
              "  font-family: monospace;\n",
              "  border: 1px dotted var(--sklearn-color-border-box);\n",
              "  border-radius: 0.25em;\n",
              "  box-sizing: border-box;\n",
              "  margin-bottom: 0.5em;\n",
              "  /* unfitted */\n",
              "  background-color: var(--sklearn-color-unfitted-level-0);\n",
              "}\n",
              "\n",
              "#sk-container-id-2 div.sk-estimator.fitted {\n",
              "  /* fitted */\n",
              "  background-color: var(--sklearn-color-fitted-level-0);\n",
              "}\n",
              "\n",
              "/* on hover */\n",
              "#sk-container-id-2 div.sk-estimator:hover {\n",
              "  /* unfitted */\n",
              "  background-color: var(--sklearn-color-unfitted-level-2);\n",
              "}\n",
              "\n",
              "#sk-container-id-2 div.sk-estimator.fitted:hover {\n",
              "  /* fitted */\n",
              "  background-color: var(--sklearn-color-fitted-level-2);\n",
              "}\n",
              "\n",
              "/* Specification for estimator info (e.g. \"i\" and \"?\") */\n",
              "\n",
              "/* Common style for \"i\" and \"?\" */\n",
              "\n",
              ".sk-estimator-doc-link,\n",
              "a:link.sk-estimator-doc-link,\n",
              "a:visited.sk-estimator-doc-link {\n",
              "  float: right;\n",
              "  font-size: smaller;\n",
              "  line-height: 1em;\n",
              "  font-family: monospace;\n",
              "  background-color: var(--sklearn-color-background);\n",
              "  border-radius: 1em;\n",
              "  height: 1em;\n",
              "  width: 1em;\n",
              "  text-decoration: none !important;\n",
              "  margin-left: 0.5em;\n",
              "  text-align: center;\n",
              "  /* unfitted */\n",
              "  border: var(--sklearn-color-unfitted-level-1) 1pt solid;\n",
              "  color: var(--sklearn-color-unfitted-level-1);\n",
              "}\n",
              "\n",
              ".sk-estimator-doc-link.fitted,\n",
              "a:link.sk-estimator-doc-link.fitted,\n",
              "a:visited.sk-estimator-doc-link.fitted {\n",
              "  /* fitted */\n",
              "  border: var(--sklearn-color-fitted-level-1) 1pt solid;\n",
              "  color: var(--sklearn-color-fitted-level-1);\n",
              "}\n",
              "\n",
              "/* On hover */\n",
              "div.sk-estimator:hover .sk-estimator-doc-link:hover,\n",
              ".sk-estimator-doc-link:hover,\n",
              "div.sk-label-container:hover .sk-estimator-doc-link:hover,\n",
              ".sk-estimator-doc-link:hover {\n",
              "  /* unfitted */\n",
              "  background-color: var(--sklearn-color-unfitted-level-3);\n",
              "  color: var(--sklearn-color-background);\n",
              "  text-decoration: none;\n",
              "}\n",
              "\n",
              "div.sk-estimator.fitted:hover .sk-estimator-doc-link.fitted:hover,\n",
              ".sk-estimator-doc-link.fitted:hover,\n",
              "div.sk-label-container:hover .sk-estimator-doc-link.fitted:hover,\n",
              ".sk-estimator-doc-link.fitted:hover {\n",
              "  /* fitted */\n",
              "  background-color: var(--sklearn-color-fitted-level-3);\n",
              "  color: var(--sklearn-color-background);\n",
              "  text-decoration: none;\n",
              "}\n",
              "\n",
              "/* Span, style for the box shown on hovering the info icon */\n",
              ".sk-estimator-doc-link span {\n",
              "  display: none;\n",
              "  z-index: 9999;\n",
              "  position: relative;\n",
              "  font-weight: normal;\n",
              "  right: .2ex;\n",
              "  padding: .5ex;\n",
              "  margin: .5ex;\n",
              "  width: min-content;\n",
              "  min-width: 20ex;\n",
              "  max-width: 50ex;\n",
              "  color: var(--sklearn-color-text);\n",
              "  box-shadow: 2pt 2pt 4pt #999;\n",
              "  /* unfitted */\n",
              "  background: var(--sklearn-color-unfitted-level-0);\n",
              "  border: .5pt solid var(--sklearn-color-unfitted-level-3);\n",
              "}\n",
              "\n",
              ".sk-estimator-doc-link.fitted span {\n",
              "  /* fitted */\n",
              "  background: var(--sklearn-color-fitted-level-0);\n",
              "  border: var(--sklearn-color-fitted-level-3);\n",
              "}\n",
              "\n",
              ".sk-estimator-doc-link:hover span {\n",
              "  display: block;\n",
              "}\n",
              "\n",
              "/* \"?\"-specific style due to the `<a>` HTML tag */\n",
              "\n",
              "#sk-container-id-2 a.estimator_doc_link {\n",
              "  float: right;\n",
              "  font-size: 1rem;\n",
              "  line-height: 1em;\n",
              "  font-family: monospace;\n",
              "  background-color: var(--sklearn-color-background);\n",
              "  border-radius: 1rem;\n",
              "  height: 1rem;\n",
              "  width: 1rem;\n",
              "  text-decoration: none;\n",
              "  /* unfitted */\n",
              "  color: var(--sklearn-color-unfitted-level-1);\n",
              "  border: var(--sklearn-color-unfitted-level-1) 1pt solid;\n",
              "}\n",
              "\n",
              "#sk-container-id-2 a.estimator_doc_link.fitted {\n",
              "  /* fitted */\n",
              "  border: var(--sklearn-color-fitted-level-1) 1pt solid;\n",
              "  color: var(--sklearn-color-fitted-level-1);\n",
              "}\n",
              "\n",
              "/* On hover */\n",
              "#sk-container-id-2 a.estimator_doc_link:hover {\n",
              "  /* unfitted */\n",
              "  background-color: var(--sklearn-color-unfitted-level-3);\n",
              "  color: var(--sklearn-color-background);\n",
              "  text-decoration: none;\n",
              "}\n",
              "\n",
              "#sk-container-id-2 a.estimator_doc_link.fitted:hover {\n",
              "  /* fitted */\n",
              "  background-color: var(--sklearn-color-fitted-level-3);\n",
              "}\n",
              "</style><div id=\"sk-container-id-2\" class=\"sk-top-container\"><div class=\"sk-text-repr-fallback\"><pre>GridSearchCV(cv=5, estimator=RandomForestClassifier(), n_jobs=-1,\n",
              "             param_grid={&#x27;bootstrap&#x27;: [True, False], &#x27;max_depth&#x27;: [3, 5, 7, 10],\n",
              "                         &#x27;max_features&#x27;: [&#x27;log2&#x27;, &#x27;sqrt&#x27;],\n",
              "                         &#x27;max_samples&#x27;: [0.7, 0.8, 0.9],\n",
              "                         &#x27;min_samples_leaf&#x27;: [2, 5, 10],\n",
              "                         &#x27;min_samples_split&#x27;: [2, 5, 10],\n",
              "                         &#x27;n_estimators&#x27;: [50, 75, 100]},\n",
              "             scoring=&#x27;recall&#x27;)</pre><b>In a Jupyter environment, please rerun this cell to show the HTML representation or trust the notebook. <br />On GitHub, the HTML representation is unable to render, please try loading this page with nbviewer.org.</b></div><div class=\"sk-container\" hidden><div class=\"sk-item sk-dashed-wrapped\"><div class=\"sk-label-container\"><div class=\"sk-label fitted sk-toggleable\"><input class=\"sk-toggleable__control sk-hidden--visually\" id=\"sk-estimator-id-4\" type=\"checkbox\" ><label for=\"sk-estimator-id-4\" class=\"sk-toggleable__label fitted sk-toggleable__label-arrow\"><div><div>GridSearchCV</div></div><div><a class=\"sk-estimator-doc-link fitted\" rel=\"noreferrer\" target=\"_blank\" href=\"https://scikit-learn.org/1.6/modules/generated/sklearn.model_selection.GridSearchCV.html\">?<span>Documentation for GridSearchCV</span></a><span class=\"sk-estimator-doc-link fitted\">i<span>Fitted</span></span></div></label><div class=\"sk-toggleable__content fitted\"><pre>GridSearchCV(cv=5, estimator=RandomForestClassifier(), n_jobs=-1,\n",
              "             param_grid={&#x27;bootstrap&#x27;: [True, False], &#x27;max_depth&#x27;: [3, 5, 7, 10],\n",
              "                         &#x27;max_features&#x27;: [&#x27;log2&#x27;, &#x27;sqrt&#x27;],\n",
              "                         &#x27;max_samples&#x27;: [0.7, 0.8, 0.9],\n",
              "                         &#x27;min_samples_leaf&#x27;: [2, 5, 10],\n",
              "                         &#x27;min_samples_split&#x27;: [2, 5, 10],\n",
              "                         &#x27;n_estimators&#x27;: [50, 75, 100]},\n",
              "             scoring=&#x27;recall&#x27;)</pre></div> </div></div><div class=\"sk-parallel\"><div class=\"sk-parallel-item\"><div class=\"sk-item\"><div class=\"sk-label-container\"><div class=\"sk-label fitted sk-toggleable\"><input class=\"sk-toggleable__control sk-hidden--visually\" id=\"sk-estimator-id-5\" type=\"checkbox\" ><label for=\"sk-estimator-id-5\" class=\"sk-toggleable__label fitted sk-toggleable__label-arrow\"><div><div>best_estimator_: RandomForestClassifier</div></div></label><div class=\"sk-toggleable__content fitted\"><pre>RandomForestClassifier(max_depth=3, max_features=&#x27;log2&#x27;, max_samples=0.7,\n",
              "                       min_samples_leaf=2, n_estimators=50)</pre></div> </div></div><div class=\"sk-serial\"><div class=\"sk-item\"><div class=\"sk-estimator fitted sk-toggleable\"><input class=\"sk-toggleable__control sk-hidden--visually\" id=\"sk-estimator-id-6\" type=\"checkbox\" ><label for=\"sk-estimator-id-6\" class=\"sk-toggleable__label fitted sk-toggleable__label-arrow\"><div><div>RandomForestClassifier</div></div><div><a class=\"sk-estimator-doc-link fitted\" rel=\"noreferrer\" target=\"_blank\" href=\"https://scikit-learn.org/1.6/modules/generated/sklearn.ensemble.RandomForestClassifier.html\">?<span>Documentation for RandomForestClassifier</span></a></div></label><div class=\"sk-toggleable__content fitted\"><pre>RandomForestClassifier(max_depth=3, max_features=&#x27;log2&#x27;, max_samples=0.7,\n",
              "                       min_samples_leaf=2, n_estimators=50)</pre></div> </div></div></div></div></div></div></div></div></div>"
            ]
          },
          "metadata": {},
          "execution_count": 118
        }
      ]
    },
    {
      "cell_type": "code",
      "source": [
        "# Get the best parameters\n",
        "print(\"Best parameters:\", grid_search.best_params_)"
      ],
      "metadata": {
        "colab": {
          "base_uri": "https://localhost:8080/"
        },
        "id": "pdFuw4Vn8l5I",
        "outputId": "f4f10583-d046-4b18-a262-572fb6443b36"
      },
      "execution_count": 119,
      "outputs": [
        {
          "output_type": "stream",
          "name": "stdout",
          "text": [
            "Best parameters: {'bootstrap': True, 'max_depth': 3, 'max_features': 'log2', 'max_samples': 0.7, 'min_samples_leaf': 2, 'min_samples_split': 2, 'n_estimators': 50}\n"
          ]
        }
      ]
    },
    {
      "cell_type": "code",
      "source": [
        "# Best model based on grid search\n",
        "best_model = grid_search.best_estimator_"
      ],
      "metadata": {
        "id": "cMmXEWC6826d"
      },
      "execution_count": 120,
      "outputs": []
    },
    {
      "cell_type": "code",
      "source": [
        "# Predict on test data\n",
        "y_test_pred = best_model.predict(X_test_scaled_df)"
      ],
      "metadata": {
        "id": "5_z7B7RD8-6k"
      },
      "execution_count": 121,
      "outputs": []
    },
    {
      "cell_type": "code",
      "source": [
        "# Calculate accuracy\n",
        "accuracy = accuracy_score(y_test, y_test_pred)\n",
        "print(\"Accuracy:\", accuracy)"
      ],
      "metadata": {
        "colab": {
          "base_uri": "https://localhost:8080/"
        },
        "id": "z048LpNb9Ddc",
        "outputId": "f9b27a4e-4bfa-4331-84ef-7406a1fa5d33"
      },
      "execution_count": 122,
      "outputs": [
        {
          "output_type": "stream",
          "name": "stdout",
          "text": [
            "Accuracy: 1.0\n"
          ]
        }
      ]
    },
    {
      "cell_type": "code",
      "source": [
        "# Confusion Matrix\n",
        "conf_matrix = confusion_matrix(y_test, y_test_pred)\n",
        "\n",
        "fig, ax = plt.subplots(figsize=(5, 5))\n",
        "ConfusionMatrixDisplay(conf_matrix).plot(ax=ax)"
      ],
      "metadata": {
        "colab": {
          "base_uri": "https://localhost:8080/",
          "height": 448
        },
        "id": "kJsc7xD69E-k",
        "outputId": "996f131e-d9e4-4271-ce4e-140f6eff53ab"
      },
      "execution_count": 123,
      "outputs": [
        {
          "output_type": "execute_result",
          "data": {
            "text/plain": [
              "<sklearn.metrics._plot.confusion_matrix.ConfusionMatrixDisplay at 0x7b8798ea1f10>"
            ]
          },
          "metadata": {},
          "execution_count": 123
        },
        {
          "output_type": "display_data",
          "data": {
            "text/plain": [
              "<Figure size 500x500 with 2 Axes>"
            ],
            "image/png": "[encoded data removed]"
          },
          "metadata": {}
        }
      ]
    },
    {
      "cell_type": "code",
      "source": [
        "# Classification Report\n",
        "class_report = classification_report(y_test, y_test_pred)\n",
        "print(class_report)"
      ],
      "metadata": {
        "colab": {
          "base_uri": "https://localhost:8080/"
        },
        "id": "7IsjFOSA9IbF",
        "outputId": "9bc5666b-95a9-4457-b59f-1d3f238e5bab"
      },
      "execution_count": 124,
      "outputs": [
        {
          "output_type": "stream",
          "name": "stdout",
          "text": [
            "              precision    recall  f1-score   support\n",
            "\n",
            "           0       1.00      1.00      1.00       148\n",
            "           1       1.00      1.00      1.00       329\n",
            "\n",
            "    accuracy                           1.00       477\n",
            "   macro avg       1.00      1.00      1.00       477\n",
            "weighted avg       1.00      1.00      1.00       477\n",
            "\n"
          ]
        }
      ]
    },
    {
      "cell_type": "markdown",
      "source": [
        "#### **Model Performance Report: RandomForestClassifier (Test Dataset)**\n",
        "\n",
        "> **Observations**\n",
        "\n",
        "1. **Precision**: Both classes achieved perfect precision (1.00), indicating no false positives in the predictions.\n",
        "2. **Recall**: Both classes achieved perfect recall (1.00), meaning all actual positives and negatives were correctly identified.\n",
        "3. **F1-Score**: The F1-score of 1.00 for both classes indicates an ideal balance between precision and recall.\n",
        "4. **Accuracy**: The overall accuracy of the model is 100%, meaning all samples were correctly classified.\n",
        "\n",
        "> **Inference**\n",
        "\n",
        "The RandomForestClassifier model performed perfectly on the evaluation data, with no misclassifications. While this level of performance is ideal in theory, it may indicate the model has either:\n",
        "- Been trained on a dataset where the patterns are too simple or obvious, allowing the model to perfectly separate the classes.\n",
        "- Potentially overfit to the training data, especially if the test data shares significant overlap with the training data or is not representative of unseen scenarios.\n",
        "\n",
        "> **Recommendations**\n",
        "\n",
        "1. Validate the model on an independent dataset to ensure the generalization capability.\n",
        "2. Investigate the dataset for potential issues such as data leakage or an overly simplistic structure.\n",
        "3. Consider applying cross-validation and evaluating the model on multiple folds to assess its robustness.\n"
      ],
      "metadata": {
        "id": "vF6jDQqxEuWi"
      }
    },
    {
      "cell_type": "markdown",
      "source": [
        "## **Ensemble Learning: Boosting**"
      ],
      "metadata": {
        "id": "XIGkAjiEAIVA"
      }
    },
    {
      "cell_type": "markdown",
      "source": [
        "### **Gradient Boosting Classifier**"
      ],
      "metadata": {
        "id": "sAmx9WsVAOF2"
      }
    },
    {
      "cell_type": "code",
      "source": [
        "# Initialize the model\n",
        "gb_clf = GradientBoostingClassifier(random_state=21)"
      ],
      "metadata": {
        "id": "sVy1rrfKAUO_"
      },
      "execution_count": 125,
      "outputs": []
    },
    {
      "cell_type": "code",
      "source": [
        "# Define the hyperparameter grid\n",
        "param_grid_gb = {\n",
        "    'n_estimators': [50, 75, 100, 150],\n",
        "    'learning_rate': [0.01, 0.05, 0.1, 0.2],\n",
        "    'max_depth': [3, 5, 7],\n",
        "    'min_samples_split': [2, 5],\n",
        "    'min_samples_leaf': [1, 2],\n",
        "    'subsample': [0.8, 1.0]\n",
        "}"
      ],
      "metadata": {
        "id": "TuYGQldcAgbG"
      },
      "execution_count": 126,
      "outputs": []
    },
    {
      "cell_type": "code",
      "source": [
        "# Initialize the GridSearchCV with cross-validation (cv=5 means 5-fold cross-validation)\n",
        "grid_search_gb = GridSearchCV(estimator=gb_clf, param_grid=param_grid_gb, cv=5, n_jobs=-1, scoring='recall')\n",
        "\n",
        "# Fit grid search on the training data\n",
        "grid_search_gb.fit(X_train_scaled_df, y_train)"
      ],
      "metadata": {
        "id": "pqEeTyGMA39r",
        "outputId": "712b360c-75d3-4379-b3b7-17962a7b22fb",
        "colab": {
          "base_uri": "https://localhost:8080/",
          "height": 165
        }
      },
      "execution_count": 127,
      "outputs": [
        {
          "output_type": "execute_result",
          "data": {
            "text/plain": [
              "GridSearchCV(cv=5, estimator=GradientBoostingClassifier(random_state=21),\n",
              "             n_jobs=-1,\n",
              "             param_grid={'learning_rate': [0.01, 0.05, 0.1, 0.2],\n",
              "                         'max_depth': [3, 5, 7], 'min_samples_leaf': [1, 2],\n",
              "                         'min_samples_split': [2, 5],\n",
              "                         'n_estimators': [50, 75, 100, 150],\n",
              "                         'subsample': [0.8, 1.0]},\n",
              "             scoring='recall')"
            ],
            "text/html": [
              "<style>#sk-container-id-3 {\n",
              "  /* Definition of color scheme common for light and dark mode */\n",
              "  --sklearn-color-text: #000;\n",
              "  --sklearn-color-text-muted: #666;\n",
              "  --sklearn-color-line: gray;\n",
              "  /* Definition of color scheme for unfitted estimators */\n",
              "  --sklearn-color-unfitted-level-0: #fff5e6;\n",
              "  --sklearn-color-unfitted-level-1: #f6e4d2;\n",
              "  --sklearn-color-unfitted-level-2: #ffe0b3;\n",
              "  --sklearn-color-unfitted-level-3: chocolate;\n",
              "  /* Definition of color scheme for fitted estimators */\n",
              "  --sklearn-color-fitted-level-0: #f0f8ff;\n",
              "  --sklearn-color-fitted-level-1: #d4ebff;\n",
              "  --sklearn-color-fitted-level-2: #b3dbfd;\n",
              "  --sklearn-color-fitted-level-3: cornflowerblue;\n",
              "\n",
              "  /* Specific color for light theme */\n",
              "  --sklearn-color-text-on-default-background: var(--sg-text-color, var(--theme-code-foreground, var(--jp-content-font-color1, black)));\n",
              "  --sklearn-color-background: var(--sg-background-color, var(--theme-background, var(--jp-layout-color0, white)));\n",
              "  --sklearn-color-border-box: var(--sg-text-color, var(--theme-code-foreground, var(--jp-content-font-color1, black)));\n",
              "  --sklearn-color-icon: #696969;\n",
              "\n",
              "  @media (prefers-color-scheme: dark) {\n",
              "    /* Redefinition of color scheme for dark theme */\n",
              "    --sklearn-color-text-on-default-background: var(--sg-text-color, var(--theme-code-foreground, var(--jp-content-font-color1, white)));\n",
              "    --sklearn-color-background: var(--sg-background-color, var(--theme-background, var(--jp-layout-color0, #111)));\n",
              "    --sklearn-color-border-box: var(--sg-text-color, var(--theme-code-foreground, var(--jp-content-font-color1, white)));\n",
              "    --sklearn-color-icon: #878787;\n",
              "  }\n",
              "}\n",
              "\n",
              "#sk-container-id-3 {\n",
              "  color: var(--sklearn-color-text);\n",
              "}\n",
              "\n",
              "#sk-container-id-3 pre {\n",
              "  padding: 0;\n",
              "}\n",
              "\n",
              "#sk-container-id-3 input.sk-hidden--visually {\n",
              "  border: 0;\n",
              "  clip: rect(1px 1px 1px 1px);\n",
              "  clip: rect(1px, 1px, 1px, 1px);\n",
              "  height: 1px;\n",
              "  margin: -1px;\n",
              "  overflow: hidden;\n",
              "  padding: 0;\n",
              "  position: absolute;\n",
              "  width: 1px;\n",
              "}\n",
              "\n",
              "#sk-container-id-3 div.sk-dashed-wrapped {\n",
              "  border: 1px dashed var(--sklearn-color-line);\n",
              "  margin: 0 0.4em 0.5em 0.4em;\n",
              "  box-sizing: border-box;\n",
              "  padding-bottom: 0.4em;\n",
              "  background-color: var(--sklearn-color-background);\n",
              "}\n",
              "\n",
              "#sk-container-id-3 div.sk-container {\n",
              "  /* jupyter's `normalize.less` sets `[hidden] { display: none; }`\n",
              "     but bootstrap.min.css set `[hidden] { display: none !important; }`\n",
              "     so we also need the `!important` here to be able to override the\n",
              "     default hidden behavior on the sphinx rendered scikit-learn.org.\n",
              "     See: https://github.com/scikit-learn/scikit-learn/issues/21755 */\n",
              "  display: inline-block !important;\n",
              "  position: relative;\n",
              "}\n",
              "\n",
              "#sk-container-id-3 div.sk-text-repr-fallback {\n",
              "  display: none;\n",
              "}\n",
              "\n",
              "div.sk-parallel-item,\n",
              "div.sk-serial,\n",
              "div.sk-item {\n",
              "  /* draw centered vertical line to link estimators */\n",
              "  background-image: linear-gradient(var(--sklearn-color-text-on-default-background), var(--sklearn-color-text-on-default-background));\n",
              "  background-size: 2px 100%;\n",
              "  background-repeat: no-repeat;\n",
              "  background-position: center center;\n",
              "}\n",
              "\n",
              "/* Parallel-specific style estimator block */\n",
              "\n",
              "#sk-container-id-3 div.sk-parallel-item::after {\n",
              "  content: \"\";\n",
              "  width: 100%;\n",
              "  border-bottom: 2px solid var(--sklearn-color-text-on-default-background);\n",
              "  flex-grow: 1;\n",
              "}\n",
              "\n",
              "#sk-container-id-3 div.sk-parallel {\n",
              "  display: flex;\n",
              "  align-items: stretch;\n",
              "  justify-content: center;\n",
              "  background-color: var(--sklearn-color-background);\n",
              "  position: relative;\n",
              "}\n",
              "\n",
              "#sk-container-id-3 div.sk-parallel-item {\n",
              "  display: flex;\n",
              "  flex-direction: column;\n",
              "}\n",
              "\n",
              "#sk-container-id-3 div.sk-parallel-item:first-child::after {\n",
              "  align-self: flex-end;\n",
              "  width: 50%;\n",
              "}\n",
              "\n",
              "#sk-container-id-3 div.sk-parallel-item:last-child::after {\n",
              "  align-self: flex-start;\n",
              "  width: 50%;\n",
              "}\n",
              "\n",
              "#sk-container-id-3 div.sk-parallel-item:only-child::after {\n",
              "  width: 0;\n",
              "}\n",
              "\n",
              "/* Serial-specific style estimator block */\n",
              "\n",
              "#sk-container-id-3 div.sk-serial {\n",
              "  display: flex;\n",
              "  flex-direction: column;\n",
              "  align-items: center;\n",
              "  background-color: var(--sklearn-color-background);\n",
              "  padding-right: 1em;\n",
              "  padding-left: 1em;\n",
              "}\n",
              "\n",
              "\n",
              "/* Toggleable style: style used for estimator/Pipeline/ColumnTransformer box that is\n",
              "clickable and can be expanded/collapsed.\n",
              "- Pipeline and ColumnTransformer use this feature and define the default style\n",
              "- Estimators will overwrite some part of the style using the `sk-estimator` class\n",
              "*/\n",
              "\n",
              "/* Pipeline and ColumnTransformer style (default) */\n",
              "\n",
              "#sk-container-id-3 div.sk-toggleable {\n",
              "  /* Default theme specific background. It is overwritten whether we have a\n",
              "  specific estimator or a Pipeline/ColumnTransformer */\n",
              "  background-color: var(--sklearn-color-background);\n",
              "}\n",
              "\n",
              "/* Toggleable label */\n",
              "#sk-container-id-3 label.sk-toggleable__label {\n",
              "  cursor: pointer;\n",
              "  display: flex;\n",
              "  width: 100%;\n",
              "  margin-bottom: 0;\n",
              "  padding: 0.5em;\n",
              "  box-sizing: border-box;\n",
              "  text-align: center;\n",
              "  align-items: start;\n",
              "  justify-content: space-between;\n",
              "  gap: 0.5em;\n",
              "}\n",
              "\n",
              "#sk-container-id-3 label.sk-toggleable__label .caption {\n",
              "  font-size: 0.6rem;\n",
              "  font-weight: lighter;\n",
              "  color: var(--sklearn-color-text-muted);\n",
              "}\n",
              "\n",
              "#sk-container-id-3 label.sk-toggleable__label-arrow:before {\n",
              "  /* Arrow on the left of the label */\n",
              "  content: \"▸\";\n",
              "  float: left;\n",
              "  margin-right: 0.25em;\n",
              "  color: var(--sklearn-color-icon);\n",
              "}\n",
              "\n",
              "#sk-container-id-3 label.sk-toggleable__label-arrow:hover:before {\n",
              "  color: var(--sklearn-color-text);\n",
              "}\n",
              "\n",
              "/* Toggleable content - dropdown */\n",
              "\n",
              "#sk-container-id-3 div.sk-toggleable__content {\n",
              "  max-height: 0;\n",
              "  max-width: 0;\n",
              "  overflow: hidden;\n",
              "  text-align: left;\n",
              "  /* unfitted */\n",
              "  background-color: var(--sklearn-color-unfitted-level-0);\n",
              "}\n",
              "\n",
              "#sk-container-id-3 div.sk-toggleable__content.fitted {\n",
              "  /* fitted */\n",
              "  background-color: var(--sklearn-color-fitted-level-0);\n",
              "}\n",
              "\n",
              "#sk-container-id-3 div.sk-toggleable__content pre {\n",
              "  margin: 0.2em;\n",
              "  border-radius: 0.25em;\n",
              "  color: var(--sklearn-color-text);\n",
              "  /* unfitted */\n",
              "  background-color: var(--sklearn-color-unfitted-level-0);\n",
              "}\n",
              "\n",
              "#sk-container-id-3 div.sk-toggleable__content.fitted pre {\n",
              "  /* unfitted */\n",
              "  background-color: var(--sklearn-color-fitted-level-0);\n",
              "}\n",
              "\n",
              "#sk-container-id-3 input.sk-toggleable__control:checked~div.sk-toggleable__content {\n",
              "  /* Expand drop-down */\n",
              "  max-height: 200px;\n",
              "  max-width: 100%;\n",
              "  overflow: auto;\n",
              "}\n",
              "\n",
              "#sk-container-id-3 input.sk-toggleable__control:checked~label.sk-toggleable__label-arrow:before {\n",
              "  content: \"▾\";\n",
              "}\n",
              "\n",
              "/* Pipeline/ColumnTransformer-specific style */\n",
              "\n",
              "#sk-container-id-3 div.sk-label input.sk-toggleable__control:checked~label.sk-toggleable__label {\n",
              "  color: var(--sklearn-color-text);\n",
              "  background-color: var(--sklearn-color-unfitted-level-2);\n",
              "}\n",
              "\n",
              "#sk-container-id-3 div.sk-label.fitted input.sk-toggleable__control:checked~label.sk-toggleable__label {\n",
              "  background-color: var(--sklearn-color-fitted-level-2);\n",
              "}\n",
              "\n",
              "/* Estimator-specific style */\n",
              "\n",
              "/* Colorize estimator box */\n",
              "#sk-container-id-3 div.sk-estimator input.sk-toggleable__control:checked~label.sk-toggleable__label {\n",
              "  /* unfitted */\n",
              "  background-color: var(--sklearn-color-unfitted-level-2);\n",
              "}\n",
              "\n",
              "#sk-container-id-3 div.sk-estimator.fitted input.sk-toggleable__control:checked~label.sk-toggleable__label {\n",
              "  /* fitted */\n",
              "  background-color: var(--sklearn-color-fitted-level-2);\n",
              "}\n",
              "\n",
              "#sk-container-id-3 div.sk-label label.sk-toggleable__label,\n",
              "#sk-container-id-3 div.sk-label label {\n",
              "  /* The background is the default theme color */\n",
              "  color: var(--sklearn-color-text-on-default-background);\n",
              "}\n",
              "\n",
              "/* On hover, darken the color of the background */\n",
              "#sk-container-id-3 div.sk-label:hover label.sk-toggleable__label {\n",
              "  color: var(--sklearn-color-text);\n",
              "  background-color: var(--sklearn-color-unfitted-level-2);\n",
              "}\n",
              "\n",
              "/* Label box, darken color on hover, fitted */\n",
              "#sk-container-id-3 div.sk-label.fitted:hover label.sk-toggleable__label.fitted {\n",
              "  color: var(--sklearn-color-text);\n",
              "  background-color: var(--sklearn-color-fitted-level-2);\n",
              "}\n",
              "\n",
              "/* Estimator label */\n",
              "\n",
              "#sk-container-id-3 div.sk-label label {\n",
              "  font-family: monospace;\n",
              "  font-weight: bold;\n",
              "  display: inline-block;\n",
              "  line-height: 1.2em;\n",
              "}\n",
              "\n",
              "#sk-container-id-3 div.sk-label-container {\n",
              "  text-align: center;\n",
              "}\n",
              "\n",
              "/* Estimator-specific */\n",
              "#sk-container-id-3 div.sk-estimator {\n",
              "  font-family: monospace;\n",
              "  border: 1px dotted var(--sklearn-color-border-box);\n",
              "  border-radius: 0.25em;\n",
              "  box-sizing: border-box;\n",
              "  margin-bottom: 0.5em;\n",
              "  /* unfitted */\n",
              "  background-color: var(--sklearn-color-unfitted-level-0);\n",
              "}\n",
              "\n",
              "#sk-container-id-3 div.sk-estimator.fitted {\n",
              "  /* fitted */\n",
              "  background-color: var(--sklearn-color-fitted-level-0);\n",
              "}\n",
              "\n",
              "/* on hover */\n",
              "#sk-container-id-3 div.sk-estimator:hover {\n",
              "  /* unfitted */\n",
              "  background-color: var(--sklearn-color-unfitted-level-2);\n",
              "}\n",
              "\n",
              "#sk-container-id-3 div.sk-estimator.fitted:hover {\n",
              "  /* fitted */\n",
              "  background-color: var(--sklearn-color-fitted-level-2);\n",
              "}\n",
              "\n",
              "/* Specification for estimator info (e.g. \"i\" and \"?\") */\n",
              "\n",
              "/* Common style for \"i\" and \"?\" */\n",
              "\n",
              ".sk-estimator-doc-link,\n",
              "a:link.sk-estimator-doc-link,\n",
              "a:visited.sk-estimator-doc-link {\n",
              "  float: right;\n",
              "  font-size: smaller;\n",
              "  line-height: 1em;\n",
              "  font-family: monospace;\n",
              "  background-color: var(--sklearn-color-background);\n",
              "  border-radius: 1em;\n",
              "  height: 1em;\n",
              "  width: 1em;\n",
              "  text-decoration: none !important;\n",
              "  margin-left: 0.5em;\n",
              "  text-align: center;\n",
              "  /* unfitted */\n",
              "  border: var(--sklearn-color-unfitted-level-1) 1pt solid;\n",
              "  color: var(--sklearn-color-unfitted-level-1);\n",
              "}\n",
              "\n",
              ".sk-estimator-doc-link.fitted,\n",
              "a:link.sk-estimator-doc-link.fitted,\n",
              "a:visited.sk-estimator-doc-link.fitted {\n",
              "  /* fitted */\n",
              "  border: var(--sklearn-color-fitted-level-1) 1pt solid;\n",
              "  color: var(--sklearn-color-fitted-level-1);\n",
              "}\n",
              "\n",
              "/* On hover */\n",
              "div.sk-estimator:hover .sk-estimator-doc-link:hover,\n",
              ".sk-estimator-doc-link:hover,\n",
              "div.sk-label-container:hover .sk-estimator-doc-link:hover,\n",
              ".sk-estimator-doc-link:hover {\n",
              "  /* unfitted */\n",
              "  background-color: var(--sklearn-color-unfitted-level-3);\n",
              "  color: var(--sklearn-color-background);\n",
              "  text-decoration: none;\n",
              "}\n",
              "\n",
              "div.sk-estimator.fitted:hover .sk-estimator-doc-link.fitted:hover,\n",
              ".sk-estimator-doc-link.fitted:hover,\n",
              "div.sk-label-container:hover .sk-estimator-doc-link.fitted:hover,\n",
              ".sk-estimator-doc-link.fitted:hover {\n",
              "  /* fitted */\n",
              "  background-color: var(--sklearn-color-fitted-level-3);\n",
              "  color: var(--sklearn-color-background);\n",
              "  text-decoration: none;\n",
              "}\n",
              "\n",
              "/* Span, style for the box shown on hovering the info icon */\n",
              ".sk-estimator-doc-link span {\n",
              "  display: none;\n",
              "  z-index: 9999;\n",
              "  position: relative;\n",
              "  font-weight: normal;\n",
              "  right: .2ex;\n",
              "  padding: .5ex;\n",
              "  margin: .5ex;\n",
              "  width: min-content;\n",
              "  min-width: 20ex;\n",
              "  max-width: 50ex;\n",
              "  color: var(--sklearn-color-text);\n",
              "  box-shadow: 2pt 2pt 4pt #999;\n",
              "  /* unfitted */\n",
              "  background: var(--sklearn-color-unfitted-level-0);\n",
              "  border: .5pt solid var(--sklearn-color-unfitted-level-3);\n",
              "}\n",
              "\n",
              ".sk-estimator-doc-link.fitted span {\n",
              "  /* fitted */\n",
              "  background: var(--sklearn-color-fitted-level-0);\n",
              "  border: var(--sklearn-color-fitted-level-3);\n",
              "}\n",
              "\n",
              ".sk-estimator-doc-link:hover span {\n",
              "  display: block;\n",
              "}\n",
              "\n",
              "/* \"?\"-specific style due to the `<a>` HTML tag */\n",
              "\n",
              "#sk-container-id-3 a.estimator_doc_link {\n",
              "  float: right;\n",
              "  font-size: 1rem;\n",
              "  line-height: 1em;\n",
              "  font-family: monospace;\n",
              "  background-color: var(--sklearn-color-background);\n",
              "  border-radius: 1rem;\n",
              "  height: 1rem;\n",
              "  width: 1rem;\n",
              "  text-decoration: none;\n",
              "  /* unfitted */\n",
              "  color: var(--sklearn-color-unfitted-level-1);\n",
              "  border: var(--sklearn-color-unfitted-level-1) 1pt solid;\n",
              "}\n",
              "\n",
              "#sk-container-id-3 a.estimator_doc_link.fitted {\n",
              "  /* fitted */\n",
              "  border: var(--sklearn-color-fitted-level-1) 1pt solid;\n",
              "  color: var(--sklearn-color-fitted-level-1);\n",
              "}\n",
              "\n",
              "/* On hover */\n",
              "#sk-container-id-3 a.estimator_doc_link:hover {\n",
              "  /* unfitted */\n",
              "  background-color: var(--sklearn-color-unfitted-level-3);\n",
              "  color: var(--sklearn-color-background);\n",
              "  text-decoration: none;\n",
              "}\n",
              "\n",
              "#sk-container-id-3 a.estimator_doc_link.fitted:hover {\n",
              "  /* fitted */\n",
              "  background-color: var(--sklearn-color-fitted-level-3);\n",
              "}\n",
              "</style><div id=\"sk-container-id-3\" class=\"sk-top-container\"><div class=\"sk-text-repr-fallback\"><pre>GridSearchCV(cv=5, estimator=GradientBoostingClassifier(random_state=21),\n",
              "             n_jobs=-1,\n",
              "             param_grid={&#x27;learning_rate&#x27;: [0.01, 0.05, 0.1, 0.2],\n",
              "                         &#x27;max_depth&#x27;: [3, 5, 7], &#x27;min_samples_leaf&#x27;: [1, 2],\n",
              "                         &#x27;min_samples_split&#x27;: [2, 5],\n",
              "                         &#x27;n_estimators&#x27;: [50, 75, 100, 150],\n",
              "                         &#x27;subsample&#x27;: [0.8, 1.0]},\n",
              "             scoring=&#x27;recall&#x27;)</pre><b>In a Jupyter environment, please rerun this cell to show the HTML representation or trust the notebook. <br />On GitHub, the HTML representation is unable to render, please try loading this page with nbviewer.org.</b></div><div class=\"sk-container\" hidden><div class=\"sk-item sk-dashed-wrapped\"><div class=\"sk-label-container\"><div class=\"sk-label fitted sk-toggleable\"><input class=\"sk-toggleable__control sk-hidden--visually\" id=\"sk-estimator-id-7\" type=\"checkbox\" ><label for=\"sk-estimator-id-7\" class=\"sk-toggleable__label fitted sk-toggleable__label-arrow\"><div><div>GridSearchCV</div></div><div><a class=\"sk-estimator-doc-link fitted\" rel=\"noreferrer\" target=\"_blank\" href=\"https://scikit-learn.org/1.6/modules/generated/sklearn.model_selection.GridSearchCV.html\">?<span>Documentation for GridSearchCV</span></a><span class=\"sk-estimator-doc-link fitted\">i<span>Fitted</span></span></div></label><div class=\"sk-toggleable__content fitted\"><pre>GridSearchCV(cv=5, estimator=GradientBoostingClassifier(random_state=21),\n",
              "             n_jobs=-1,\n",
              "             param_grid={&#x27;learning_rate&#x27;: [0.01, 0.05, 0.1, 0.2],\n",
              "                         &#x27;max_depth&#x27;: [3, 5, 7], &#x27;min_samples_leaf&#x27;: [1, 2],\n",
              "                         &#x27;min_samples_split&#x27;: [2, 5],\n",
              "                         &#x27;n_estimators&#x27;: [50, 75, 100, 150],\n",
              "                         &#x27;subsample&#x27;: [0.8, 1.0]},\n",
              "             scoring=&#x27;recall&#x27;)</pre></div> </div></div><div class=\"sk-parallel\"><div class=\"sk-parallel-item\"><div class=\"sk-item\"><div class=\"sk-label-container\"><div class=\"sk-label fitted sk-toggleable\"><input class=\"sk-toggleable__control sk-hidden--visually\" id=\"sk-estimator-id-8\" type=\"checkbox\" ><label for=\"sk-estimator-id-8\" class=\"sk-toggleable__label fitted sk-toggleable__label-arrow\"><div><div>best_estimator_: GradientBoostingClassifier</div></div></label><div class=\"sk-toggleable__content fitted\"><pre>GradientBoostingClassifier(learning_rate=0.01, n_estimators=50, random_state=21,\n",
              "                           subsample=0.8)</pre></div> </div></div><div class=\"sk-serial\"><div class=\"sk-item\"><div class=\"sk-estimator fitted sk-toggleable\"><input class=\"sk-toggleable__control sk-hidden--visually\" id=\"sk-estimator-id-9\" type=\"checkbox\" ><label for=\"sk-estimator-id-9\" class=\"sk-toggleable__label fitted sk-toggleable__label-arrow\"><div><div>GradientBoostingClassifier</div></div><div><a class=\"sk-estimator-doc-link fitted\" rel=\"noreferrer\" target=\"_blank\" href=\"https://scikit-learn.org/1.6/modules/generated/sklearn.ensemble.GradientBoostingClassifier.html\">?<span>Documentation for GradientBoostingClassifier</span></a></div></label><div class=\"sk-toggleable__content fitted\"><pre>GradientBoostingClassifier(learning_rate=0.01, n_estimators=50, random_state=21,\n",
              "                           subsample=0.8)</pre></div> </div></div></div></div></div></div></div></div></div>"
            ]
          },
          "metadata": {},
          "execution_count": 127
        }
      ]
    },
    {
      "cell_type": "code",
      "source": [
        "# Get the best parameters\n",
        "print(\"Best parameters:\", grid_search_gb.best_params_)"
      ],
      "metadata": {
        "id": "K_lOjL5yBAZV",
        "outputId": "ae5db501-4fa6-459d-8206-648c14f311b0",
        "colab": {
          "base_uri": "https://localhost:8080/"
        }
      },
      "execution_count": 128,
      "outputs": [
        {
          "output_type": "stream",
          "name": "stdout",
          "text": [
            "Best parameters: {'learning_rate': 0.01, 'max_depth': 3, 'min_samples_leaf': 1, 'min_samples_split': 2, 'n_estimators': 50, 'subsample': 0.8}\n"
          ]
        }
      ]
    },
    {
      "cell_type": "code",
      "source": [
        "# Best model based on grid search\n",
        "best_gb_model = grid_search_gb.best_estimator_"
      ],
      "metadata": {
        "id": "6Y3iLJR6BDSp"
      },
      "execution_count": 129,
      "outputs": []
    },
    {
      "cell_type": "code",
      "source": [
        "# Predict on test data\n",
        "y_test_pred_gb = best_gb_model.predict(X_test_scaled_df)"
      ],
      "metadata": {
        "id": "tzXTPATXBLW_"
      },
      "execution_count": 130,
      "outputs": []
    },
    {
      "cell_type": "code",
      "source": [
        "# Calculate accuracy\n",
        "accuracy_gb = accuracy_score(y_test, y_test_pred_gb)\n",
        "print(f\"Accuracy: {accuracy_gb}\")"
      ],
      "metadata": {
        "id": "8phclXaABL1m",
        "outputId": "3f0d9cd6-3a86-49c0-d665-2b7c8e1ff0cf",
        "colab": {
          "base_uri": "https://localhost:8080/"
        }
      },
      "execution_count": 131,
      "outputs": [
        {
          "output_type": "stream",
          "name": "stdout",
          "text": [
            "Accuracy: 1.0\n"
          ]
        }
      ]
    },
    {
      "cell_type": "code",
      "source": [
        "# Confusion Matrix\n",
        "conf_matrix_gb = confusion_matrix(y_test, y_test_pred_gb)\n",
        "\n",
        "# Plot confusion matrix\n",
        "fig, ax = plt.subplots(figsize=(5, 5))\n",
        "ConfusionMatrixDisplay(conf_matrix_gb).plot(ax=ax)\n",
        "plt.show()"
      ],
      "metadata": {
        "id": "_Vwl4xgNBOBX",
        "outputId": "6fba5440-86cd-4b78-b75c-11d46264c22c",
        "colab": {
          "base_uri": "https://localhost:8080/",
          "height": 430
        }
      },
      "execution_count": 132,
      "outputs": [
        {
          "output_type": "display_data",
          "data": {
            "text/plain": [
              "<Figure size 500x500 with 2 Axes>"
            ],
            "image/png": "[encoded data removed]"
          },
          "metadata": {}
        }
      ]
    },
    {
      "cell_type": "code",
      "source": [
        "# Classification report\n",
        "class_report_gb = classification_report(y_test, y_test_pred_gb)\n",
        "print(\"Classification Report:\\n\", class_report_gb)"
      ],
      "metadata": {
        "id": "O3vMbxyaBRND",
        "outputId": "184b6be3-83e4-4e02-9b69-37861c8111aa",
        "colab": {
          "base_uri": "https://localhost:8080/"
        }
      },
      "execution_count": 133,
      "outputs": [
        {
          "output_type": "stream",
          "name": "stdout",
          "text": [
            "Classification Report:\n",
            "               precision    recall  f1-score   support\n",
            "\n",
            "           0       1.00      1.00      1.00       148\n",
            "           1       1.00      1.00      1.00       329\n",
            "\n",
            "    accuracy                           1.00       477\n",
            "   macro avg       1.00      1.00      1.00       477\n",
            "weighted avg       1.00      1.00      1.00       477\n",
            "\n"
          ]
        }
      ]
    },
    {
      "cell_type": "markdown",
      "source": [
        "#### **Model Performance Report: GradientBoostingClassifier (Test Dataset)**\n",
        "\n",
        "> **Observations**\n",
        "\n",
        "1. **Precision**: The model achieved perfect precision (1.00) for both classes on the test dataset, indicating no false positives.\n",
        "2. **Recall**: The recall is 1.00 for both classes, signifying that the model correctly identified all true positives without any false negatives.\n",
        "3. **F1-Score**: The F1-score of 1.00 for both classes reflects an optimal balance between precision and recall.\n",
        "4. **Accuracy**: The model achieved an overall accuracy of 100% on the test dataset, with no misclassifications.\n",
        "5. **Macro Average**: The macro averages for precision, recall, and F1-score are all 1.00, indicating uniform performance across both classes.\n",
        "6. **Weighted Average**: The weighted averages are also 1.00, confirming consistent performance even with imbalanced class sizes in the dataset.\n",
        "\n",
        "> **Inference**\n",
        "\n",
        "The GradientBoostingClassifier displayed perfect performance on the test dataset. While these results are impressive, they might indicate potential issues such as:\n",
        "- Overfitting: The model might be memorizing patterns specific to the dataset rather than learning generalizable features.\n",
        "- Simplicity: The dataset might contain easily separable patterns, making it straightforward for the model to achieve high performance.\n",
        "- Data Leakage: There could be unintentional sharing of information between the training and test datasets.\n",
        "\n",
        "> **Recommendations**\n",
        "\n",
        "1. **Generalization Check**: Test the model on an independent validation dataset to confirm its performance on unseen data.\n",
        "2. **Cross-Validation**: Employ k-fold cross-validation during training to ensure consistent performance across multiple splits of the data.\n",
        "3. **Dataset Inspection**: Review the dataset for potential issues like data leakage, duplicate rows, or overly simplistic features that could influence results.\n",
        "4. **Regularization**: Apply regularization techniques or limit the depth of trees to reduce the risk of overfitting if necessary.\n",
        "5. **Real-World Testing**: Evaluate the model using real-world data to better understand its applicability and robustness in practical scenarios.\n"
      ],
      "metadata": {
        "id": "l4AxMPvTF0hk"
      }
    },
    {
      "cell_type": "markdown",
      "source": [
        "### **XGBoost**"
      ],
      "metadata": {
        "id": "UVkp0goOGFFF"
      }
    },
    {
      "cell_type": "code",
      "source": [
        "# Initialize the XGBoost model\n",
        "xgb_clf = xgb.XGBClassifier(objective='binary:logistic', random_state=2)"
      ],
      "metadata": {
        "id": "1rAFuLATGLaK",
        "outputId": "b8d7cac3-0f9f-49f9-b9b9-688bda2cf536",
        "colab": {
          "base_uri": "https://localhost:8080/",
          "height": 165
        }
      },
      "execution_count": 5,
      "outputs": [
        {
          "output_type": "error",
          "ename": "NameError",
          "evalue": "name 'xgb' is not defined",
          "traceback": [
            "\u001b[0;31m---------------------------------------------------------------------------\u001b[0m",
            "\u001b[0;31mNameError\u001b[0m                                 Traceback (most recent call last)",
            "\u001b[0;32m<ipython-input-5-b10cab76eaca>\u001b[0m in \u001b[0;36m<cell line: 0>\u001b[0;34m()\u001b[0m\n\u001b[1;32m      1\u001b[0m \u001b[0;31m# Initialize the XGBoost model\u001b[0m\u001b[0;34m\u001b[0m\u001b[0;34m\u001b[0m\u001b[0m\n\u001b[0;32m----> 2\u001b[0;31m \u001b[0mxgb_clf\u001b[0m \u001b[0;34m=\u001b[0m \u001b[0mxgb\u001b[0m\u001b[0;34m.\u001b[0m\u001b[0mXGBClassifier\u001b[0m\u001b[0;34m(\u001b[0m\u001b[0mobjective\u001b[0m\u001b[0;34m=\u001b[0m\u001b[0;34m'binary:logistic'\u001b[0m\u001b[0;34m,\u001b[0m \u001b[0mrandom_state\u001b[0m\u001b[0;34m=\u001b[0m\u001b[0;36m2\u001b[0m\u001b[0;34m)\u001b[0m\u001b[0;34m\u001b[0m\u001b[0;34m\u001b[0m\u001b[0m\n\u001b[0m",
            "\u001b[0;31mNameError\u001b[0m: name 'xgb' is not defined"
          ]
        }
      ]
    },
    {
      "cell_type": "code",
      "source": [
        "# Define hyperparameter grid for XGBoost\n",
        "param_grid_xgb = {\n",
        "    'n_estimators': [30, 50, 75, 100],\n",
        "    'learning_rate': [0.01, 0.05, 0.1],\n",
        "    'max_depth': [3, 5, 7],\n",
        "    'subsample': [0.8, 1.0],\n",
        "    'colsample_bytree': [0.6, 0.8, 1.0],\n",
        "    'min_child_weight': [1, 3, 5]\n",
        "}"
      ],
      "metadata": {
        "id": "f3RVwa7FGh46"
      },
      "execution_count": 168,
      "outputs": []
    },
    {
      "cell_type": "code",
      "source": [
        "# Initialize the GridSearchCV with cross-validation (cv=5 means 5-fold cross-validation)\n",
        "grid_search = GridSearchCV(\n",
        "    estimator=xgb_clf,\n",
        "    param_grid=param_grid_xgb,\n",
        "    cv=5,\n",
        "    scoring='recall',\n",
        "    n_jobs=-1,\n",
        "    verbose=1\n",
        ")\n",
        "\n",
        "# Fit grid search on the training data\n",
        "grid_search.fit(X_train_scaled_df, y_train)"
      ],
      "metadata": {
        "id": "ds6MfO2oHW_4",
        "outputId": "890f3012-d5e6-45e6-a973-aa3c58712914",
        "colab": {
          "base_uri": "https://localhost:8080/",
          "height": 335
        }
      },
      "execution_count": 169,
      "outputs": [
        {
          "output_type": "error",
          "ename": "AttributeError",
          "evalue": "'super' object has no attribute '__sklearn_tags__'",
          "traceback": [
            "\u001b[0;31m---------------------------------------------------------------------------\u001b[0m",
            "\u001b[0;31mAttributeError\u001b[0m                            Traceback (most recent call last)",
            "\u001b[0;32m<ipython-input-169-0620bc943c24>\u001b[0m in \u001b[0;36m<cell line: 0>\u001b[0;34m()\u001b[0m\n\u001b[1;32m     10\u001b[0m \u001b[0;34m\u001b[0m\u001b[0m\n\u001b[1;32m     11\u001b[0m \u001b[0;31m# Fit grid search on the training data\u001b[0m\u001b[0;34m\u001b[0m\u001b[0;34m\u001b[0m\u001b[0m\n\u001b[0;32m---> 12\u001b[0;31m \u001b[0mgrid_search\u001b[0m\u001b[0;34m.\u001b[0m\u001b[0mfit\u001b[0m\u001b[0;34m(\u001b[0m\u001b[0mX_train_scaled_df\u001b[0m\u001b[0;34m,\u001b[0m \u001b[0my_train\u001b[0m\u001b[0;34m)\u001b[0m\u001b[0;34m\u001b[0m\u001b[0;34m\u001b[0m\u001b[0m\n\u001b[0m",
            "\u001b[0;32m/usr/local/lib/python3.11/dist-packages/sklearn/base.py\u001b[0m in \u001b[0;36mwrapper\u001b[0;34m(estimator, *args, **kwargs)\u001b[0m\n\u001b[1;32m   1387\u001b[0m \u001b[0;34m\u001b[0m\u001b[0m\n\u001b[1;32m   1388\u001b[0m \u001b[0;32mdef\u001b[0m \u001b[0mis_regressor\u001b[0m\u001b[0;34m(\u001b[0m\u001b[0mestimator\u001b[0m\u001b[0;34m)\u001b[0m\u001b[0;34m:\u001b[0m\u001b[0;34m\u001b[0m\u001b[0;34m\u001b[0m\u001b[0m\n\u001b[0;32m-> 1389\u001b[0;31m     \"\"\"Return True if the given estimator is (probably) a regressor.\n\u001b[0m\u001b[1;32m   1390\u001b[0m \u001b[0;34m\u001b[0m\u001b[0m\n\u001b[1;32m   1391\u001b[0m     \u001b[0mParameters\u001b[0m\u001b[0;34m\u001b[0m\u001b[0;34m\u001b[0m\u001b[0m\n",
            "\u001b[0;32m/usr/local/lib/python3.11/dist-packages/sklearn/model_selection/_search.py\u001b[0m in \u001b[0;36mfit\u001b[0;34m(self, X, y, **params)\u001b[0m\n\u001b[1;32m    931\u001b[0m         \u001b[0mbase_estimator\u001b[0m \u001b[0;34m=\u001b[0m \u001b[0mclone\u001b[0m\u001b[0;34m(\u001b[0m\u001b[0mself\u001b[0m\u001b[0;34m.\u001b[0m\u001b[0mestimator\u001b[0m\u001b[0;34m)\u001b[0m\u001b[0;34m\u001b[0m\u001b[0;34m\u001b[0m\u001b[0m\n\u001b[1;32m    932\u001b[0m \u001b[0;34m\u001b[0m\u001b[0m\n\u001b[0;32m--> 933\u001b[0;31m         \u001b[0mparallel\u001b[0m \u001b[0;34m=\u001b[0m \u001b[0mParallel\u001b[0m\u001b[0;34m(\u001b[0m\u001b[0mn_jobs\u001b[0m\u001b[0;34m=\u001b[0m\u001b[0mself\u001b[0m\u001b[0;34m.\u001b[0m\u001b[0mn_jobs\u001b[0m\u001b[0;34m,\u001b[0m \u001b[0mpre_dispatch\u001b[0m\u001b[0;34m=\u001b[0m\u001b[0mself\u001b[0m\u001b[0;34m.\u001b[0m\u001b[0mpre_dispatch\u001b[0m\u001b[0;34m)\u001b[0m\u001b[0;34m\u001b[0m\u001b[0;34m\u001b[0m\u001b[0m\n\u001b[0m\u001b[1;32m    934\u001b[0m \u001b[0;34m\u001b[0m\u001b[0m\n\u001b[1;32m    935\u001b[0m         fit_and_score_kwargs = dict(\n",
            "\u001b[0;32m/usr/local/lib/python3.11/dist-packages/sklearn/base.py\u001b[0m in \u001b[0;36mis_classifier\u001b[0;34m(estimator)\u001b[0m\n\u001b[1;32m   1235\u001b[0m \u001b[0;32mclass\u001b[0m \u001b[0mOutlierMixin\u001b[0m\u001b[0;34m:\u001b[0m\u001b[0;34m\u001b[0m\u001b[0;34m\u001b[0m\u001b[0m\n\u001b[1;32m   1236\u001b[0m     \"\"\"Mixin class for all outlier detection estimators in scikit-learn.\n\u001b[0;32m-> 1237\u001b[0;31m \u001b[0;34m\u001b[0m\u001b[0m\n\u001b[0m\u001b[1;32m   1238\u001b[0m     \u001b[0mThis\u001b[0m \u001b[0mmixin\u001b[0m \u001b[0mdefines\u001b[0m \u001b[0mthe\u001b[0m \u001b[0mfollowing\u001b[0m \u001b[0mfunctionality\u001b[0m\u001b[0;34m:\u001b[0m\u001b[0;34m\u001b[0m\u001b[0;34m\u001b[0m\u001b[0m\n\u001b[1;32m   1239\u001b[0m \u001b[0;34m\u001b[0m\u001b[0m\n",
            "\u001b[0;32m/usr/local/lib/python3.11/dist-packages/sklearn/utils/_tags.py\u001b[0m in \u001b[0;36mget_tags\u001b[0;34m(estimator)\u001b[0m\n",
            "\u001b[0;32m/usr/local/lib/python3.11/dist-packages/sklearn/base.py\u001b[0m in \u001b[0;36m__sklearn_tags__\u001b[0;34m(self)\u001b[0m\n\u001b[1;32m    538\u001b[0m         \u001b[0mself\u001b[0m\u001b[0;34m,\u001b[0m\u001b[0;34m\u001b[0m\u001b[0;34m\u001b[0m\u001b[0m\n\u001b[1;32m    539\u001b[0m         \u001b[0mX\u001b[0m\u001b[0;34m=\u001b[0m\u001b[0;34m\"no_validation\"\u001b[0m\u001b[0;34m,\u001b[0m\u001b[0;34m\u001b[0m\u001b[0;34m\u001b[0m\u001b[0m\n\u001b[0;32m--> 540\u001b[0;31m         \u001b[0my\u001b[0m\u001b[0;34m=\u001b[0m\u001b[0;34m\"no_validation\"\u001b[0m\u001b[0;34m,\u001b[0m\u001b[0;34m\u001b[0m\u001b[0;34m\u001b[0m\u001b[0m\n\u001b[0m\u001b[1;32m    541\u001b[0m         \u001b[0mreset\u001b[0m\u001b[0;34m=\u001b[0m\u001b[0;32mTrue\u001b[0m\u001b[0;34m,\u001b[0m\u001b[0;34m\u001b[0m\u001b[0;34m\u001b[0m\u001b[0m\n\u001b[1;32m    542\u001b[0m         \u001b[0mvalidate_separately\u001b[0m\u001b[0;34m=\u001b[0m\u001b[0;32mFalse\u001b[0m\u001b[0;34m,\u001b[0m\u001b[0;34m\u001b[0m\u001b[0;34m\u001b[0m\u001b[0m\n",
            "\u001b[0;31mAttributeError\u001b[0m: 'super' object has no attribute '__sklearn_tags__'"
          ]
        }
      ]
    },
    {
      "cell_type": "code",
      "source": [
        "best_xgb_model = grid_search.best_estimator_\n",
        "print(\"Best parameters:\", grid_search.best_params_)"
      ],
      "metadata": {
        "id": "uVa8dzkFHXr1"
      },
      "execution_count": null,
      "outputs": []
    },
    {
      "cell_type": "code",
      "source": [
        "# Predict on test data\n",
        "y_test_pred = best_xgb_model.predict(X_test_scaled_df)"
      ],
      "metadata": {
        "id": "JcntUltzHbkm"
      },
      "execution_count": null,
      "outputs": []
    },
    {
      "cell_type": "code",
      "source": [
        "# Confusion Matrix\n",
        "conf_matrix = confusion_matrix(y_test, y_test_pred)\n",
        "fig, ax = plt.subplots(figsize=(5, 5))\n",
        "ConfusionMatrixDisplay(conf_matrix).plot(ax=ax)\n",
        "plt.show()"
      ],
      "metadata": {
        "id": "NBZoexHoHe0C"
      },
      "execution_count": null,
      "outputs": []
    },
    {
      "cell_type": "code",
      "source": [
        "# Classification Report\n",
        "class_report = classification_report(y_test, y_test_pred)\n",
        "print(class_report)"
      ],
      "metadata": {
        "id": "YIUlcm1pHhA-"
      },
      "execution_count": null,
      "outputs": []
    }
  ]
}